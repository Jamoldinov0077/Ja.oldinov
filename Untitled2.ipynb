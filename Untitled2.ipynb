{
  "nbformat": 4,
  "nbformat_minor": 0,
  "metadata": {
    "colab": {
      "provenance": [],
      "toc_visible": true,
      "authorship_tag": "ABX9TyNMoaNL1HAt4Xd27vyb2bsp",
      "include_colab_link": true
    },
    "kernelspec": {
      "name": "python3",
      "display_name": "Python 3"
    },
    "language_info": {
      "name": "python"
    }
  },
  "cells": [
    {
      "cell_type": "markdown",
      "metadata": {
        "id": "view-in-github",
        "colab_type": "text"
      },
      "source": [
        "<a href=\"https://colab.research.google.com/github/Jamoldinov0077/Ja.oldinov/blob/main/Untitled2.ipynb\" target=\"_parent\"><img src=\"https://colab.research.google.com/assets/colab-badge.svg\" alt=\"Open In Colab\"/></a>"
      ]
    },
    {
      "cell_type": "code",
      "execution_count": 16,
      "metadata": {
        "id": "wMVwjO7z9u6e"
      },
      "outputs": [],
      "source": [
        "#   Kutubxonalarni import qilish\n",
        "import numpy as np\n",
        "from matplotlib import pyplot as plt\n",
        "import pandas as pd"
      ]
    },
    {
      "cell_type": "code",
      "source": [
        "#   Ma'lumotlar to‘plamini yuklab olish\n",
        "data_set= pd.read_excel('DatasetJS.xlsx')"
      ],
      "metadata": {
        "id": "h_WzDms1-ECk"
      },
      "execution_count": 17,
      "outputs": []
    },
    {
      "cell_type": "code",
      "source": [
        "data_set"
      ],
      "metadata": {
        "colab": {
          "base_uri": "https://localhost:8080/",
          "height": 1000
        },
        "id": "DGrx_A4Y-PsY",
        "outputId": "a28c1f74-dea0-4f28-cce4-e59858020c15"
      },
      "execution_count": 18,
      "outputs": [
        {
          "output_type": "execute_result",
          "data": {
            "text/plain": [
              "                Talaba FI  Talaba yoshi  Talaba GPA  Talaba vazni  \\\n",
              "0           Aliyev Azamat            26         3.8          60.5   \n",
              "1         Davronov Rustam            15         3.4          72.3   \n",
              "2         Sobirova Zaynab            35         3.6          65.4   \n",
              "3         Karimov Shohrux            18         3.1          55.2   \n",
              "4      Mirzaev Kamoliddin            43         3.9          80.1   \n",
              "5           Xamidov Oybek            27         2.7          68.9   \n",
              "6         Ismoilov Farxod            31         3.5          74.5   \n",
              "7          G'iyosov Zafar            19         3.2          62.7   \n",
              "8         Qodirova Shirin            56         3.0          59.0   \n",
              "9       To'raqulov Sardor            40         3.8          66.8   \n",
              "10        Nurmatov Farrux            37         3.3          71.2   \n",
              "11         Sultonov Maruf            17         3.6          63.4   \n",
              "12      G'ulomova Dildora            41         4.0          78.0   \n",
              "13           Azizov Mirza            29         3.7          70.6   \n",
              "14      Rustamova Nilufar            38         3.2          65.3   \n",
              "15    Abdurahmonov Bekzod            32         3.5          69.4   \n",
              "16       Xo'jaev Ulug'bek            49         3.9          74.2   \n",
              "17       Djalilova Madina            16         3.1          57.8   \n",
              "18      Jumaev Abdurahman            47         3.3          66.3   \n",
              "19     Mirzayeva Madinamo            35         3.4          68.1   \n",
              "20       Shoismatov Ilyos            36         2.9          62.1   \n",
              "21        Rakhmatov Zohid            39         3.7          75.5   \n",
              "22     Khodjayeva Dilorom            39         4.0          69.0   \n",
              "23       Tashkentov Nizom            33         3.6          73.1   \n",
              "24   Sirojiddinov Jamshid            29         3.5          64.7   \n",
              "25       Rahmonov Gulzoda            34         3.8          67.5   \n",
              "26          Muminov Tohir            20         3.2          62.8   \n",
              "27         Raximov Kamron            32         3.1          60.0   \n",
              "28        Akramova Munira            60         3.9          71.8   \n",
              "29         Ergashev Islom            31         3.4          69.9   \n",
              "30        Valiyev Ravshan            48         3.0          65.7   \n",
              "31         Temirov Begzod            30         3.7          72.5   \n",
              "32       Qayumova Mahbuba            37         3.3          63.2   \n",
              "33      Masharipov Furqat            64         3.8          66.1   \n",
              "34       Baxtiyorov Karim            29         1.2          58.9   \n",
              "35      Muhammadov Davron            31         3.6          67.3   \n",
              "36    G'aniyeva Shahrizod            30         3.9          70.8   \n",
              "37      Fazliddinov Akbar            21         3.4          74.6   \n",
              "38      Otabekov Mirzaxon            55         3.2          61.5   \n",
              "39        Aliyeva Nilufar            40         3.5          69.6   \n",
              "40  Muhammadjonov Shavkat            29         3.1          63.9   \n",
              "41       Bobojonov Farxod            33         3.0          59.5   \n",
              "42        Abdullayev Azim            29         1.3          75.0   \n",
              "43       Ibragimov Javlon            58         3.6          72.8   \n",
              "44    Abduvohidov Shohruh            23         3.9          64.3   \n",
              "45    To'xtamuratov Temur            40         3.3          66.9   \n",
              "46      Xurshidov Alisher            26         1.4          70.3   \n",
              "47        Nazirova Madina            35         3.1          62.0   \n",
              "48         Alimov G'ayrat            38         3.5          71.5   \n",
              "49       G'ofurova Sadiya            54         3.8          65.1   \n",
              "50  Temurxonov Abdurahmon            27         3.0          68.4   \n",
              "51        Sardorov Sharif            22         3.4          73.7   \n",
              "52      Otabekova Shoista            33         3.6          64.9   \n",
              "53        Maqsudov Sa'diy            63         3.7          60.6   \n",
              "54       Asqarov Ulug'bek            29         3.2          69.2   \n",
              "55         Choriyev Akmal            26         3.9          72.0   \n",
              "56        Asadov Gulbahor            34         3.3          77.4   \n",
              "57        Usmonov Jamshed            30         1.5          71.1   \n",
              "58   Fayzullaeva Shahnoza            23         1.8          63.6   \n",
              "59      Xusniddinov Munir            43         1.7          68.2   \n",
              "\n",
              "    Talabaning bo'yi  Sinfi  \n",
              "0                170      1  \n",
              "1                165      0  \n",
              "2                175      1  \n",
              "3                160      0  \n",
              "4                180      2  \n",
              "5                168      1  \n",
              "6                172      1  \n",
              "7                163      0  \n",
              "8                178      2  \n",
              "9                169      1  \n",
              "10               174      1  \n",
              "11               162      0  \n",
              "12               181      2  \n",
              "13               167      1  \n",
              "14               173      1  \n",
              "15               166      1  \n",
              "16               179      2  \n",
              "17               161      0  \n",
              "18               176      2  \n",
              "19               170      1  \n",
              "20               174      1  \n",
              "21               169      1  \n",
              "22               172      1  \n",
              "23               167      1  \n",
              "24               168      1  \n",
              "25               175      1  \n",
              "26               160      0  \n",
              "27               171      1  \n",
              "28               178      2  \n",
              "29               173      1  \n",
              "30               180      2  \n",
              "31               170      1  \n",
              "32               167      1  \n",
              "33               177      2  \n",
              "34               169      1  \n",
              "35               171      1  \n",
              "36               175      1  \n",
              "37               162      0  \n",
              "38               176      2  \n",
              "39               168      1  \n",
              "40               168      1  \n",
              "41               170      1  \n",
              "42               172      1  \n",
              "43               179      2  \n",
              "44               165      0  \n",
              "45               167      1  \n",
              "46               173      1  \n",
              "47               166      1  \n",
              "48               174      1  \n",
              "49               180      2  \n",
              "50               167      1  \n",
              "51               160      0  \n",
              "52               171      1  \n",
              "53               178      2  \n",
              "54               169      1  \n",
              "55               175      1  \n",
              "56               171      1  \n",
              "57               172      1  \n",
              "58               162      0  \n",
              "59               181      2  "
            ],
            "text/html": [
              "\n",
              "  <div id=\"df-3854e086-3638-4af3-ba9e-a45ac662e21d\" class=\"colab-df-container\">\n",
              "    <div>\n",
              "<style scoped>\n",
              "    .dataframe tbody tr th:only-of-type {\n",
              "        vertical-align: middle;\n",
              "    }\n",
              "\n",
              "    .dataframe tbody tr th {\n",
              "        vertical-align: top;\n",
              "    }\n",
              "\n",
              "    .dataframe thead th {\n",
              "        text-align: right;\n",
              "    }\n",
              "</style>\n",
              "<table border=\"1\" class=\"dataframe\">\n",
              "  <thead>\n",
              "    <tr style=\"text-align: right;\">\n",
              "      <th></th>\n",
              "      <th>Talaba FI</th>\n",
              "      <th>Talaba yoshi</th>\n",
              "      <th>Talaba GPA</th>\n",
              "      <th>Talaba vazni</th>\n",
              "      <th>Talabaning bo'yi</th>\n",
              "      <th>Sinfi</th>\n",
              "    </tr>\n",
              "  </thead>\n",
              "  <tbody>\n",
              "    <tr>\n",
              "      <th>0</th>\n",
              "      <td>Aliyev Azamat</td>\n",
              "      <td>26</td>\n",
              "      <td>3.8</td>\n",
              "      <td>60.5</td>\n",
              "      <td>170</td>\n",
              "      <td>1</td>\n",
              "    </tr>\n",
              "    <tr>\n",
              "      <th>1</th>\n",
              "      <td>Davronov Rustam</td>\n",
              "      <td>15</td>\n",
              "      <td>3.4</td>\n",
              "      <td>72.3</td>\n",
              "      <td>165</td>\n",
              "      <td>0</td>\n",
              "    </tr>\n",
              "    <tr>\n",
              "      <th>2</th>\n",
              "      <td>Sobirova Zaynab</td>\n",
              "      <td>35</td>\n",
              "      <td>3.6</td>\n",
              "      <td>65.4</td>\n",
              "      <td>175</td>\n",
              "      <td>1</td>\n",
              "    </tr>\n",
              "    <tr>\n",
              "      <th>3</th>\n",
              "      <td>Karimov Shohrux</td>\n",
              "      <td>18</td>\n",
              "      <td>3.1</td>\n",
              "      <td>55.2</td>\n",
              "      <td>160</td>\n",
              "      <td>0</td>\n",
              "    </tr>\n",
              "    <tr>\n",
              "      <th>4</th>\n",
              "      <td>Mirzaev Kamoliddin</td>\n",
              "      <td>43</td>\n",
              "      <td>3.9</td>\n",
              "      <td>80.1</td>\n",
              "      <td>180</td>\n",
              "      <td>2</td>\n",
              "    </tr>\n",
              "    <tr>\n",
              "      <th>5</th>\n",
              "      <td>Xamidov Oybek</td>\n",
              "      <td>27</td>\n",
              "      <td>2.7</td>\n",
              "      <td>68.9</td>\n",
              "      <td>168</td>\n",
              "      <td>1</td>\n",
              "    </tr>\n",
              "    <tr>\n",
              "      <th>6</th>\n",
              "      <td>Ismoilov Farxod</td>\n",
              "      <td>31</td>\n",
              "      <td>3.5</td>\n",
              "      <td>74.5</td>\n",
              "      <td>172</td>\n",
              "      <td>1</td>\n",
              "    </tr>\n",
              "    <tr>\n",
              "      <th>7</th>\n",
              "      <td>G'iyosov Zafar</td>\n",
              "      <td>19</td>\n",
              "      <td>3.2</td>\n",
              "      <td>62.7</td>\n",
              "      <td>163</td>\n",
              "      <td>0</td>\n",
              "    </tr>\n",
              "    <tr>\n",
              "      <th>8</th>\n",
              "      <td>Qodirova Shirin</td>\n",
              "      <td>56</td>\n",
              "      <td>3.0</td>\n",
              "      <td>59.0</td>\n",
              "      <td>178</td>\n",
              "      <td>2</td>\n",
              "    </tr>\n",
              "    <tr>\n",
              "      <th>9</th>\n",
              "      <td>To'raqulov Sardor</td>\n",
              "      <td>40</td>\n",
              "      <td>3.8</td>\n",
              "      <td>66.8</td>\n",
              "      <td>169</td>\n",
              "      <td>1</td>\n",
              "    </tr>\n",
              "    <tr>\n",
              "      <th>10</th>\n",
              "      <td>Nurmatov Farrux</td>\n",
              "      <td>37</td>\n",
              "      <td>3.3</td>\n",
              "      <td>71.2</td>\n",
              "      <td>174</td>\n",
              "      <td>1</td>\n",
              "    </tr>\n",
              "    <tr>\n",
              "      <th>11</th>\n",
              "      <td>Sultonov Maruf</td>\n",
              "      <td>17</td>\n",
              "      <td>3.6</td>\n",
              "      <td>63.4</td>\n",
              "      <td>162</td>\n",
              "      <td>0</td>\n",
              "    </tr>\n",
              "    <tr>\n",
              "      <th>12</th>\n",
              "      <td>G'ulomova Dildora</td>\n",
              "      <td>41</td>\n",
              "      <td>4.0</td>\n",
              "      <td>78.0</td>\n",
              "      <td>181</td>\n",
              "      <td>2</td>\n",
              "    </tr>\n",
              "    <tr>\n",
              "      <th>13</th>\n",
              "      <td>Azizov Mirza</td>\n",
              "      <td>29</td>\n",
              "      <td>3.7</td>\n",
              "      <td>70.6</td>\n",
              "      <td>167</td>\n",
              "      <td>1</td>\n",
              "    </tr>\n",
              "    <tr>\n",
              "      <th>14</th>\n",
              "      <td>Rustamova Nilufar</td>\n",
              "      <td>38</td>\n",
              "      <td>3.2</td>\n",
              "      <td>65.3</td>\n",
              "      <td>173</td>\n",
              "      <td>1</td>\n",
              "    </tr>\n",
              "    <tr>\n",
              "      <th>15</th>\n",
              "      <td>Abdurahmonov Bekzod</td>\n",
              "      <td>32</td>\n",
              "      <td>3.5</td>\n",
              "      <td>69.4</td>\n",
              "      <td>166</td>\n",
              "      <td>1</td>\n",
              "    </tr>\n",
              "    <tr>\n",
              "      <th>16</th>\n",
              "      <td>Xo'jaev Ulug'bek</td>\n",
              "      <td>49</td>\n",
              "      <td>3.9</td>\n",
              "      <td>74.2</td>\n",
              "      <td>179</td>\n",
              "      <td>2</td>\n",
              "    </tr>\n",
              "    <tr>\n",
              "      <th>17</th>\n",
              "      <td>Djalilova Madina</td>\n",
              "      <td>16</td>\n",
              "      <td>3.1</td>\n",
              "      <td>57.8</td>\n",
              "      <td>161</td>\n",
              "      <td>0</td>\n",
              "    </tr>\n",
              "    <tr>\n",
              "      <th>18</th>\n",
              "      <td>Jumaev Abdurahman</td>\n",
              "      <td>47</td>\n",
              "      <td>3.3</td>\n",
              "      <td>66.3</td>\n",
              "      <td>176</td>\n",
              "      <td>2</td>\n",
              "    </tr>\n",
              "    <tr>\n",
              "      <th>19</th>\n",
              "      <td>Mirzayeva Madinamo</td>\n",
              "      <td>35</td>\n",
              "      <td>3.4</td>\n",
              "      <td>68.1</td>\n",
              "      <td>170</td>\n",
              "      <td>1</td>\n",
              "    </tr>\n",
              "    <tr>\n",
              "      <th>20</th>\n",
              "      <td>Shoismatov Ilyos</td>\n",
              "      <td>36</td>\n",
              "      <td>2.9</td>\n",
              "      <td>62.1</td>\n",
              "      <td>174</td>\n",
              "      <td>1</td>\n",
              "    </tr>\n",
              "    <tr>\n",
              "      <th>21</th>\n",
              "      <td>Rakhmatov Zohid</td>\n",
              "      <td>39</td>\n",
              "      <td>3.7</td>\n",
              "      <td>75.5</td>\n",
              "      <td>169</td>\n",
              "      <td>1</td>\n",
              "    </tr>\n",
              "    <tr>\n",
              "      <th>22</th>\n",
              "      <td>Khodjayeva Dilorom</td>\n",
              "      <td>39</td>\n",
              "      <td>4.0</td>\n",
              "      <td>69.0</td>\n",
              "      <td>172</td>\n",
              "      <td>1</td>\n",
              "    </tr>\n",
              "    <tr>\n",
              "      <th>23</th>\n",
              "      <td>Tashkentov Nizom</td>\n",
              "      <td>33</td>\n",
              "      <td>3.6</td>\n",
              "      <td>73.1</td>\n",
              "      <td>167</td>\n",
              "      <td>1</td>\n",
              "    </tr>\n",
              "    <tr>\n",
              "      <th>24</th>\n",
              "      <td>Sirojiddinov Jamshid</td>\n",
              "      <td>29</td>\n",
              "      <td>3.5</td>\n",
              "      <td>64.7</td>\n",
              "      <td>168</td>\n",
              "      <td>1</td>\n",
              "    </tr>\n",
              "    <tr>\n",
              "      <th>25</th>\n",
              "      <td>Rahmonov Gulzoda</td>\n",
              "      <td>34</td>\n",
              "      <td>3.8</td>\n",
              "      <td>67.5</td>\n",
              "      <td>175</td>\n",
              "      <td>1</td>\n",
              "    </tr>\n",
              "    <tr>\n",
              "      <th>26</th>\n",
              "      <td>Muminov Tohir</td>\n",
              "      <td>20</td>\n",
              "      <td>3.2</td>\n",
              "      <td>62.8</td>\n",
              "      <td>160</td>\n",
              "      <td>0</td>\n",
              "    </tr>\n",
              "    <tr>\n",
              "      <th>27</th>\n",
              "      <td>Raximov Kamron</td>\n",
              "      <td>32</td>\n",
              "      <td>3.1</td>\n",
              "      <td>60.0</td>\n",
              "      <td>171</td>\n",
              "      <td>1</td>\n",
              "    </tr>\n",
              "    <tr>\n",
              "      <th>28</th>\n",
              "      <td>Akramova Munira</td>\n",
              "      <td>60</td>\n",
              "      <td>3.9</td>\n",
              "      <td>71.8</td>\n",
              "      <td>178</td>\n",
              "      <td>2</td>\n",
              "    </tr>\n",
              "    <tr>\n",
              "      <th>29</th>\n",
              "      <td>Ergashev Islom</td>\n",
              "      <td>31</td>\n",
              "      <td>3.4</td>\n",
              "      <td>69.9</td>\n",
              "      <td>173</td>\n",
              "      <td>1</td>\n",
              "    </tr>\n",
              "    <tr>\n",
              "      <th>30</th>\n",
              "      <td>Valiyev Ravshan</td>\n",
              "      <td>48</td>\n",
              "      <td>3.0</td>\n",
              "      <td>65.7</td>\n",
              "      <td>180</td>\n",
              "      <td>2</td>\n",
              "    </tr>\n",
              "    <tr>\n",
              "      <th>31</th>\n",
              "      <td>Temirov Begzod</td>\n",
              "      <td>30</td>\n",
              "      <td>3.7</td>\n",
              "      <td>72.5</td>\n",
              "      <td>170</td>\n",
              "      <td>1</td>\n",
              "    </tr>\n",
              "    <tr>\n",
              "      <th>32</th>\n",
              "      <td>Qayumova Mahbuba</td>\n",
              "      <td>37</td>\n",
              "      <td>3.3</td>\n",
              "      <td>63.2</td>\n",
              "      <td>167</td>\n",
              "      <td>1</td>\n",
              "    </tr>\n",
              "    <tr>\n",
              "      <th>33</th>\n",
              "      <td>Masharipov Furqat</td>\n",
              "      <td>64</td>\n",
              "      <td>3.8</td>\n",
              "      <td>66.1</td>\n",
              "      <td>177</td>\n",
              "      <td>2</td>\n",
              "    </tr>\n",
              "    <tr>\n",
              "      <th>34</th>\n",
              "      <td>Baxtiyorov Karim</td>\n",
              "      <td>29</td>\n",
              "      <td>1.2</td>\n",
              "      <td>58.9</td>\n",
              "      <td>169</td>\n",
              "      <td>1</td>\n",
              "    </tr>\n",
              "    <tr>\n",
              "      <th>35</th>\n",
              "      <td>Muhammadov Davron</td>\n",
              "      <td>31</td>\n",
              "      <td>3.6</td>\n",
              "      <td>67.3</td>\n",
              "      <td>171</td>\n",
              "      <td>1</td>\n",
              "    </tr>\n",
              "    <tr>\n",
              "      <th>36</th>\n",
              "      <td>G'aniyeva Shahrizod</td>\n",
              "      <td>30</td>\n",
              "      <td>3.9</td>\n",
              "      <td>70.8</td>\n",
              "      <td>175</td>\n",
              "      <td>1</td>\n",
              "    </tr>\n",
              "    <tr>\n",
              "      <th>37</th>\n",
              "      <td>Fazliddinov Akbar</td>\n",
              "      <td>21</td>\n",
              "      <td>3.4</td>\n",
              "      <td>74.6</td>\n",
              "      <td>162</td>\n",
              "      <td>0</td>\n",
              "    </tr>\n",
              "    <tr>\n",
              "      <th>38</th>\n",
              "      <td>Otabekov Mirzaxon</td>\n",
              "      <td>55</td>\n",
              "      <td>3.2</td>\n",
              "      <td>61.5</td>\n",
              "      <td>176</td>\n",
              "      <td>2</td>\n",
              "    </tr>\n",
              "    <tr>\n",
              "      <th>39</th>\n",
              "      <td>Aliyeva Nilufar</td>\n",
              "      <td>40</td>\n",
              "      <td>3.5</td>\n",
              "      <td>69.6</td>\n",
              "      <td>168</td>\n",
              "      <td>1</td>\n",
              "    </tr>\n",
              "    <tr>\n",
              "      <th>40</th>\n",
              "      <td>Muhammadjonov Shavkat</td>\n",
              "      <td>29</td>\n",
              "      <td>3.1</td>\n",
              "      <td>63.9</td>\n",
              "      <td>168</td>\n",
              "      <td>1</td>\n",
              "    </tr>\n",
              "    <tr>\n",
              "      <th>41</th>\n",
              "      <td>Bobojonov Farxod</td>\n",
              "      <td>33</td>\n",
              "      <td>3.0</td>\n",
              "      <td>59.5</td>\n",
              "      <td>170</td>\n",
              "      <td>1</td>\n",
              "    </tr>\n",
              "    <tr>\n",
              "      <th>42</th>\n",
              "      <td>Abdullayev Azim</td>\n",
              "      <td>29</td>\n",
              "      <td>1.3</td>\n",
              "      <td>75.0</td>\n",
              "      <td>172</td>\n",
              "      <td>1</td>\n",
              "    </tr>\n",
              "    <tr>\n",
              "      <th>43</th>\n",
              "      <td>Ibragimov Javlon</td>\n",
              "      <td>58</td>\n",
              "      <td>3.6</td>\n",
              "      <td>72.8</td>\n",
              "      <td>179</td>\n",
              "      <td>2</td>\n",
              "    </tr>\n",
              "    <tr>\n",
              "      <th>44</th>\n",
              "      <td>Abduvohidov Shohruh</td>\n",
              "      <td>23</td>\n",
              "      <td>3.9</td>\n",
              "      <td>64.3</td>\n",
              "      <td>165</td>\n",
              "      <td>0</td>\n",
              "    </tr>\n",
              "    <tr>\n",
              "      <th>45</th>\n",
              "      <td>To'xtamuratov Temur</td>\n",
              "      <td>40</td>\n",
              "      <td>3.3</td>\n",
              "      <td>66.9</td>\n",
              "      <td>167</td>\n",
              "      <td>1</td>\n",
              "    </tr>\n",
              "    <tr>\n",
              "      <th>46</th>\n",
              "      <td>Xurshidov Alisher</td>\n",
              "      <td>26</td>\n",
              "      <td>1.4</td>\n",
              "      <td>70.3</td>\n",
              "      <td>173</td>\n",
              "      <td>1</td>\n",
              "    </tr>\n",
              "    <tr>\n",
              "      <th>47</th>\n",
              "      <td>Nazirova Madina</td>\n",
              "      <td>35</td>\n",
              "      <td>3.1</td>\n",
              "      <td>62.0</td>\n",
              "      <td>166</td>\n",
              "      <td>1</td>\n",
              "    </tr>\n",
              "    <tr>\n",
              "      <th>48</th>\n",
              "      <td>Alimov G'ayrat</td>\n",
              "      <td>38</td>\n",
              "      <td>3.5</td>\n",
              "      <td>71.5</td>\n",
              "      <td>174</td>\n",
              "      <td>1</td>\n",
              "    </tr>\n",
              "    <tr>\n",
              "      <th>49</th>\n",
              "      <td>G'ofurova Sadiya</td>\n",
              "      <td>54</td>\n",
              "      <td>3.8</td>\n",
              "      <td>65.1</td>\n",
              "      <td>180</td>\n",
              "      <td>2</td>\n",
              "    </tr>\n",
              "    <tr>\n",
              "      <th>50</th>\n",
              "      <td>Temurxonov Abdurahmon</td>\n",
              "      <td>27</td>\n",
              "      <td>3.0</td>\n",
              "      <td>68.4</td>\n",
              "      <td>167</td>\n",
              "      <td>1</td>\n",
              "    </tr>\n",
              "    <tr>\n",
              "      <th>51</th>\n",
              "      <td>Sardorov Sharif</td>\n",
              "      <td>22</td>\n",
              "      <td>3.4</td>\n",
              "      <td>73.7</td>\n",
              "      <td>160</td>\n",
              "      <td>0</td>\n",
              "    </tr>\n",
              "    <tr>\n",
              "      <th>52</th>\n",
              "      <td>Otabekova Shoista</td>\n",
              "      <td>33</td>\n",
              "      <td>3.6</td>\n",
              "      <td>64.9</td>\n",
              "      <td>171</td>\n",
              "      <td>1</td>\n",
              "    </tr>\n",
              "    <tr>\n",
              "      <th>53</th>\n",
              "      <td>Maqsudov Sa'diy</td>\n",
              "      <td>63</td>\n",
              "      <td>3.7</td>\n",
              "      <td>60.6</td>\n",
              "      <td>178</td>\n",
              "      <td>2</td>\n",
              "    </tr>\n",
              "    <tr>\n",
              "      <th>54</th>\n",
              "      <td>Asqarov Ulug'bek</td>\n",
              "      <td>29</td>\n",
              "      <td>3.2</td>\n",
              "      <td>69.2</td>\n",
              "      <td>169</td>\n",
              "      <td>1</td>\n",
              "    </tr>\n",
              "    <tr>\n",
              "      <th>55</th>\n",
              "      <td>Choriyev Akmal</td>\n",
              "      <td>26</td>\n",
              "      <td>3.9</td>\n",
              "      <td>72.0</td>\n",
              "      <td>175</td>\n",
              "      <td>1</td>\n",
              "    </tr>\n",
              "    <tr>\n",
              "      <th>56</th>\n",
              "      <td>Asadov Gulbahor</td>\n",
              "      <td>34</td>\n",
              "      <td>3.3</td>\n",
              "      <td>77.4</td>\n",
              "      <td>171</td>\n",
              "      <td>1</td>\n",
              "    </tr>\n",
              "    <tr>\n",
              "      <th>57</th>\n",
              "      <td>Usmonov Jamshed</td>\n",
              "      <td>30</td>\n",
              "      <td>1.5</td>\n",
              "      <td>71.1</td>\n",
              "      <td>172</td>\n",
              "      <td>1</td>\n",
              "    </tr>\n",
              "    <tr>\n",
              "      <th>58</th>\n",
              "      <td>Fayzullaeva Shahnoza</td>\n",
              "      <td>23</td>\n",
              "      <td>1.8</td>\n",
              "      <td>63.6</td>\n",
              "      <td>162</td>\n",
              "      <td>0</td>\n",
              "    </tr>\n",
              "    <tr>\n",
              "      <th>59</th>\n",
              "      <td>Xusniddinov Munir</td>\n",
              "      <td>43</td>\n",
              "      <td>1.7</td>\n",
              "      <td>68.2</td>\n",
              "      <td>181</td>\n",
              "      <td>2</td>\n",
              "    </tr>\n",
              "  </tbody>\n",
              "</table>\n",
              "</div>\n",
              "    <div class=\"colab-df-buttons\">\n",
              "\n",
              "  <div class=\"colab-df-container\">\n",
              "    <button class=\"colab-df-convert\" onclick=\"convertToInteractive('df-3854e086-3638-4af3-ba9e-a45ac662e21d')\"\n",
              "            title=\"Convert this dataframe to an interactive table.\"\n",
              "            style=\"display:none;\">\n",
              "\n",
              "  <svg xmlns=\"http://www.w3.org/2000/svg\" height=\"24px\" viewBox=\"0 -960 960 960\">\n",
              "    <path d=\"M120-120v-720h720v720H120Zm60-500h600v-160H180v160Zm220 220h160v-160H400v160Zm0 220h160v-160H400v160ZM180-400h160v-160H180v160Zm440 0h160v-160H620v160ZM180-180h160v-160H180v160Zm440 0h160v-160H620v160Z\"/>\n",
              "  </svg>\n",
              "    </button>\n",
              "\n",
              "  <style>\n",
              "    .colab-df-container {\n",
              "      display:flex;\n",
              "      gap: 12px;\n",
              "    }\n",
              "\n",
              "    .colab-df-convert {\n",
              "      background-color: #E8F0FE;\n",
              "      border: none;\n",
              "      border-radius: 50%;\n",
              "      cursor: pointer;\n",
              "      display: none;\n",
              "      fill: #1967D2;\n",
              "      height: 32px;\n",
              "      padding: 0 0 0 0;\n",
              "      width: 32px;\n",
              "    }\n",
              "\n",
              "    .colab-df-convert:hover {\n",
              "      background-color: #E2EBFA;\n",
              "      box-shadow: 0px 1px 2px rgba(60, 64, 67, 0.3), 0px 1px 3px 1px rgba(60, 64, 67, 0.15);\n",
              "      fill: #174EA6;\n",
              "    }\n",
              "\n",
              "    .colab-df-buttons div {\n",
              "      margin-bottom: 4px;\n",
              "    }\n",
              "\n",
              "    [theme=dark] .colab-df-convert {\n",
              "      background-color: #3B4455;\n",
              "      fill: #D2E3FC;\n",
              "    }\n",
              "\n",
              "    [theme=dark] .colab-df-convert:hover {\n",
              "      background-color: #434B5C;\n",
              "      box-shadow: 0px 1px 3px 1px rgba(0, 0, 0, 0.15);\n",
              "      filter: drop-shadow(0px 1px 2px rgba(0, 0, 0, 0.3));\n",
              "      fill: #FFFFFF;\n",
              "    }\n",
              "  </style>\n",
              "\n",
              "    <script>\n",
              "      const buttonEl =\n",
              "        document.querySelector('#df-3854e086-3638-4af3-ba9e-a45ac662e21d button.colab-df-convert');\n",
              "      buttonEl.style.display =\n",
              "        google.colab.kernel.accessAllowed ? 'block' : 'none';\n",
              "\n",
              "      async function convertToInteractive(key) {\n",
              "        const element = document.querySelector('#df-3854e086-3638-4af3-ba9e-a45ac662e21d');\n",
              "        const dataTable =\n",
              "          await google.colab.kernel.invokeFunction('convertToInteractive',\n",
              "                                                    [key], {});\n",
              "        if (!dataTable) return;\n",
              "\n",
              "        const docLinkHtml = 'Like what you see? Visit the ' +\n",
              "          '<a target=\"_blank\" href=https://colab.research.google.com/notebooks/data_table.ipynb>data table notebook</a>'\n",
              "          + ' to learn more about interactive tables.';\n",
              "        element.innerHTML = '';\n",
              "        dataTable['output_type'] = 'display_data';\n",
              "        await google.colab.output.renderOutput(dataTable, element);\n",
              "        const docLink = document.createElement('div');\n",
              "        docLink.innerHTML = docLinkHtml;\n",
              "        element.appendChild(docLink);\n",
              "      }\n",
              "    </script>\n",
              "  </div>\n",
              "\n",
              "\n",
              "<div id=\"df-527f7ef8-fa15-4352-a4ff-4776c1bb5ab9\">\n",
              "  <button class=\"colab-df-quickchart\" onclick=\"quickchart('df-527f7ef8-fa15-4352-a4ff-4776c1bb5ab9')\"\n",
              "            title=\"Suggest charts\"\n",
              "            style=\"display:none;\">\n",
              "\n",
              "<svg xmlns=\"http://www.w3.org/2000/svg\" height=\"24px\"viewBox=\"0 0 24 24\"\n",
              "     width=\"24px\">\n",
              "    <g>\n",
              "        <path d=\"M19 3H5c-1.1 0-2 .9-2 2v14c0 1.1.9 2 2 2h14c1.1 0 2-.9 2-2V5c0-1.1-.9-2-2-2zM9 17H7v-7h2v7zm4 0h-2V7h2v10zm4 0h-2v-4h2v4z\"/>\n",
              "    </g>\n",
              "</svg>\n",
              "  </button>\n",
              "\n",
              "<style>\n",
              "  .colab-df-quickchart {\n",
              "      --bg-color: #E8F0FE;\n",
              "      --fill-color: #1967D2;\n",
              "      --hover-bg-color: #E2EBFA;\n",
              "      --hover-fill-color: #174EA6;\n",
              "      --disabled-fill-color: #AAA;\n",
              "      --disabled-bg-color: #DDD;\n",
              "  }\n",
              "\n",
              "  [theme=dark] .colab-df-quickchart {\n",
              "      --bg-color: #3B4455;\n",
              "      --fill-color: #D2E3FC;\n",
              "      --hover-bg-color: #434B5C;\n",
              "      --hover-fill-color: #FFFFFF;\n",
              "      --disabled-bg-color: #3B4455;\n",
              "      --disabled-fill-color: #666;\n",
              "  }\n",
              "\n",
              "  .colab-df-quickchart {\n",
              "    background-color: var(--bg-color);\n",
              "    border: none;\n",
              "    border-radius: 50%;\n",
              "    cursor: pointer;\n",
              "    display: none;\n",
              "    fill: var(--fill-color);\n",
              "    height: 32px;\n",
              "    padding: 0;\n",
              "    width: 32px;\n",
              "  }\n",
              "\n",
              "  .colab-df-quickchart:hover {\n",
              "    background-color: var(--hover-bg-color);\n",
              "    box-shadow: 0 1px 2px rgba(60, 64, 67, 0.3), 0 1px 3px 1px rgba(60, 64, 67, 0.15);\n",
              "    fill: var(--button-hover-fill-color);\n",
              "  }\n",
              "\n",
              "  .colab-df-quickchart-complete:disabled,\n",
              "  .colab-df-quickchart-complete:disabled:hover {\n",
              "    background-color: var(--disabled-bg-color);\n",
              "    fill: var(--disabled-fill-color);\n",
              "    box-shadow: none;\n",
              "  }\n",
              "\n",
              "  .colab-df-spinner {\n",
              "    border: 2px solid var(--fill-color);\n",
              "    border-color: transparent;\n",
              "    border-bottom-color: var(--fill-color);\n",
              "    animation:\n",
              "      spin 1s steps(1) infinite;\n",
              "  }\n",
              "\n",
              "  @keyframes spin {\n",
              "    0% {\n",
              "      border-color: transparent;\n",
              "      border-bottom-color: var(--fill-color);\n",
              "      border-left-color: var(--fill-color);\n",
              "    }\n",
              "    20% {\n",
              "      border-color: transparent;\n",
              "      border-left-color: var(--fill-color);\n",
              "      border-top-color: var(--fill-color);\n",
              "    }\n",
              "    30% {\n",
              "      border-color: transparent;\n",
              "      border-left-color: var(--fill-color);\n",
              "      border-top-color: var(--fill-color);\n",
              "      border-right-color: var(--fill-color);\n",
              "    }\n",
              "    40% {\n",
              "      border-color: transparent;\n",
              "      border-right-color: var(--fill-color);\n",
              "      border-top-color: var(--fill-color);\n",
              "    }\n",
              "    60% {\n",
              "      border-color: transparent;\n",
              "      border-right-color: var(--fill-color);\n",
              "    }\n",
              "    80% {\n",
              "      border-color: transparent;\n",
              "      border-right-color: var(--fill-color);\n",
              "      border-bottom-color: var(--fill-color);\n",
              "    }\n",
              "    90% {\n",
              "      border-color: transparent;\n",
              "      border-bottom-color: var(--fill-color);\n",
              "    }\n",
              "  }\n",
              "</style>\n",
              "\n",
              "  <script>\n",
              "    async function quickchart(key) {\n",
              "      const quickchartButtonEl =\n",
              "        document.querySelector('#' + key + ' button');\n",
              "      quickchartButtonEl.disabled = true;  // To prevent multiple clicks.\n",
              "      quickchartButtonEl.classList.add('colab-df-spinner');\n",
              "      try {\n",
              "        const charts = await google.colab.kernel.invokeFunction(\n",
              "            'suggestCharts', [key], {});\n",
              "      } catch (error) {\n",
              "        console.error('Error during call to suggestCharts:', error);\n",
              "      }\n",
              "      quickchartButtonEl.classList.remove('colab-df-spinner');\n",
              "      quickchartButtonEl.classList.add('colab-df-quickchart-complete');\n",
              "    }\n",
              "    (() => {\n",
              "      let quickchartButtonEl =\n",
              "        document.querySelector('#df-527f7ef8-fa15-4352-a4ff-4776c1bb5ab9 button');\n",
              "      quickchartButtonEl.style.display =\n",
              "        google.colab.kernel.accessAllowed ? 'block' : 'none';\n",
              "    })();\n",
              "  </script>\n",
              "</div>\n",
              "\n",
              "  <div id=\"id_60b8f58d-1254-4730-9742-b446baad67f6\">\n",
              "    <style>\n",
              "      .colab-df-generate {\n",
              "        background-color: #E8F0FE;\n",
              "        border: none;\n",
              "        border-radius: 50%;\n",
              "        cursor: pointer;\n",
              "        display: none;\n",
              "        fill: #1967D2;\n",
              "        height: 32px;\n",
              "        padding: 0 0 0 0;\n",
              "        width: 32px;\n",
              "      }\n",
              "\n",
              "      .colab-df-generate:hover {\n",
              "        background-color: #E2EBFA;\n",
              "        box-shadow: 0px 1px 2px rgba(60, 64, 67, 0.3), 0px 1px 3px 1px rgba(60, 64, 67, 0.15);\n",
              "        fill: #174EA6;\n",
              "      }\n",
              "\n",
              "      [theme=dark] .colab-df-generate {\n",
              "        background-color: #3B4455;\n",
              "        fill: #D2E3FC;\n",
              "      }\n",
              "\n",
              "      [theme=dark] .colab-df-generate:hover {\n",
              "        background-color: #434B5C;\n",
              "        box-shadow: 0px 1px 3px 1px rgba(0, 0, 0, 0.15);\n",
              "        filter: drop-shadow(0px 1px 2px rgba(0, 0, 0, 0.3));\n",
              "        fill: #FFFFFF;\n",
              "      }\n",
              "    </style>\n",
              "    <button class=\"colab-df-generate\" onclick=\"generateWithVariable('data_set')\"\n",
              "            title=\"Generate code using this dataframe.\"\n",
              "            style=\"display:none;\">\n",
              "\n",
              "  <svg xmlns=\"http://www.w3.org/2000/svg\" height=\"24px\"viewBox=\"0 0 24 24\"\n",
              "       width=\"24px\">\n",
              "    <path d=\"M7,19H8.4L18.45,9,17,7.55,7,17.6ZM5,21V16.75L18.45,3.32a2,2,0,0,1,2.83,0l1.4,1.43a1.91,1.91,0,0,1,.58,1.4,1.91,1.91,0,0,1-.58,1.4L9.25,21ZM18.45,9,17,7.55Zm-12,3A5.31,5.31,0,0,0,4.9,8.1,5.31,5.31,0,0,0,1,6.5,5.31,5.31,0,0,0,4.9,4.9,5.31,5.31,0,0,0,6.5,1,5.31,5.31,0,0,0,8.1,4.9,5.31,5.31,0,0,0,12,6.5,5.46,5.46,0,0,0,6.5,12Z\"/>\n",
              "  </svg>\n",
              "    </button>\n",
              "    <script>\n",
              "      (() => {\n",
              "      const buttonEl =\n",
              "        document.querySelector('#id_60b8f58d-1254-4730-9742-b446baad67f6 button.colab-df-generate');\n",
              "      buttonEl.style.display =\n",
              "        google.colab.kernel.accessAllowed ? 'block' : 'none';\n",
              "\n",
              "      buttonEl.onclick = () => {\n",
              "        google.colab.notebook.generateWithVariable('data_set');\n",
              "      }\n",
              "      })();\n",
              "    </script>\n",
              "  </div>\n",
              "\n",
              "    </div>\n",
              "  </div>\n"
            ],
            "application/vnd.google.colaboratory.intrinsic+json": {
              "type": "dataframe",
              "variable_name": "data_set",
              "summary": "{\n  \"name\": \"data_set\",\n  \"rows\": 60,\n  \"fields\": [\n    {\n      \"column\": \"Talaba FI\",\n      \"properties\": {\n        \"dtype\": \"string\",\n        \"num_unique_values\": 60,\n        \"samples\": [\n          \"Aliyev Azamat\",\n          \"Xamidov Oybek\",\n          \"G'aniyeva Shahrizod\"\n        ],\n        \"semantic_type\": \"\",\n        \"description\": \"\"\n      }\n    },\n    {\n      \"column\": \"Talaba yoshi\",\n      \"properties\": {\n        \"dtype\": \"number\",\n        \"std\": 11,\n        \"min\": 15,\n        \"max\": 64,\n        \"num_unique_values\": 35,\n        \"samples\": [\n          30,\n          29,\n          60\n        ],\n        \"semantic_type\": \"\",\n        \"description\": \"\"\n      }\n    },\n    {\n      \"column\": \"Talaba GPA\",\n      \"properties\": {\n        \"dtype\": \"number\",\n        \"std\": 0.6757210001594572,\n        \"min\": 1.2,\n        \"max\": 4.0,\n        \"num_unique_values\": 19,\n        \"samples\": [\n          3.8,\n          2.7,\n          3.7\n        ],\n        \"semantic_type\": \"\",\n        \"description\": \"\"\n      }\n    },\n    {\n      \"column\": \"Talaba vazni\",\n      \"properties\": {\n        \"dtype\": \"number\",\n        \"std\": 5.475464276163987,\n        \"min\": 55.2,\n        \"max\": 80.1,\n        \"num_unique_values\": 60,\n        \"samples\": [\n          60.5,\n          68.9,\n          70.8\n        ],\n        \"semantic_type\": \"\",\n        \"description\": \"\"\n      }\n    },\n    {\n      \"column\": \"Talabaning bo'yi\",\n      \"properties\": {\n        \"dtype\": \"number\",\n        \"std\": 5,\n        \"min\": 160,\n        \"max\": 181,\n        \"num_unique_values\": 21,\n        \"samples\": [\n          170,\n          161,\n          166\n        ],\n        \"semantic_type\": \"\",\n        \"description\": \"\"\n      }\n    },\n    {\n      \"column\": \"Sinfi\",\n      \"properties\": {\n        \"dtype\": \"number\",\n        \"std\": 0,\n        \"min\": 0,\n        \"max\": 2,\n        \"num_unique_values\": 3,\n        \"samples\": [\n          1,\n          0,\n          2\n        ],\n        \"semantic_type\": \"\",\n        \"description\": \"\"\n      }\n    }\n  ]\n}"
            }
          },
          "metadata": {},
          "execution_count": 18
        }
      ]
    },
    {
      "cell_type": "code",
      "source": [
        "#    Mustaqil va qaram o‘zgaruvchini ajratib olish\n",
        "X= data_set.iloc[:, [0,1,2,3,4,5]].values\n",
        "Y= data_set.iloc[:, -1].values"
      ],
      "metadata": {
        "id": "UoObKRxw-WP6"
      },
      "execution_count": 19,
      "outputs": []
    },
    {
      "cell_type": "code",
      "source": [
        "# To‘plamning grafigini chizish\n",
        "x1 = X[:,1] # 1-xususiyat\n",
        "x2 = X[:,4] # 2-xususiyat\n",
        "plt.figure(figsize=(7,6))\n",
        "plt.xlabel('Talaba_yoshi')\n",
        "plt.ylabel('Talaba_bo\\'yi_sm')\n",
        "plt.scatter(x1[Y==0],x2[Y==0],marker='^',\n",
        "       color='green',label='15<<Yosh<<25')\n",
        "plt.scatter(x1[Y==1],x2[Y==1],marker='H',\n",
        "       color='red',label='26<<Yosh<<45')\n",
        "plt.scatter(x1[Y==2],x2[Y==2],marker='*',\n",
        "       color='blue',label='Yosh>>45')\n",
        "plt.legend()\n",
        "plt.show()"
      ],
      "metadata": {
        "colab": {
          "base_uri": "https://localhost:8080/",
          "height": 542
        },
        "id": "Xalo23am-m7V",
        "outputId": "b02b9018-d93a-4092-cac1-f21d4d7069e9"
      },
      "execution_count": 20,
      "outputs": [
        {
          "output_type": "display_data",
          "data": {
            "text/plain": [
              "<Figure size 700x600 with 1 Axes>"
            ],
            "image/png": "[encoded data removed]"
          },
          "metadata": {}
        }
      ]
    },
    {
      "cell_type": "code",
      "source": [
        "#  Ma'lumotlar to‘plamini o‘quv va test to‘plamiga bo‘lish.\n",
        "from sklearn.model_selection import train_test_split\n",
        "\n",
        "# Train(o‘quv) va test(sinov) ma'lumotlar to‘plamini yaratish\n",
        "X = data_set.iloc[:, [1,4]]\n",
        "x_train, x_test, y_train, y_test= train_test_split(X, Y, test_size= 0.3, random_state=1)"
      ],
      "metadata": {
        "id": "7m2wODTmAC7y"
      },
      "execution_count": 40,
      "outputs": []
    },
    {
      "cell_type": "code",
      "source": [
        "#   Xususiyatlarni masshtablash\n",
        "from sklearn.preprocessing import StandardScaler\n",
        "st_x= StandardScaler()\n",
        "x_train= st_x.fit_transform(x_train)\n",
        "x_test= st_x.transform(x_test)"
      ],
      "metadata": {
        "collapsed": true,
        "id": "XyGa11z7ANtn"
      },
      "execution_count": 41,
      "outputs": []
    },
    {
      "cell_type": "code",
      "source": [
        "# K - means algoritmini o'qitish\n",
        "from sklearn.cluster import KMeans\n",
        "Kmean=KMeans(max_iter=300,n_clusters=3)\n",
        "Kmean.fit(x_train)"
      ],
      "metadata": {
        "colab": {
          "base_uri": "https://localhost:8080/",
          "height": 80
        },
        "collapsed": true,
        "id": "XBPvDagiBEFy",
        "outputId": "de1e53a6-c4bc-4fbf-e484-bbdc90278451"
      },
      "execution_count": 43,
      "outputs": [
        {
          "output_type": "execute_result",
          "data": {
            "text/plain": [
              "KMeans(n_clusters=3)"
            ],
            "text/html": [
              "<style>#sk-container-id-1 {\n",
              "  /* Definition of color scheme common for light and dark mode */\n",
              "  --sklearn-color-text: black;\n",
              "  --sklearn-color-line: gray;\n",
              "  /* Definition of color scheme for unfitted estimators */\n",
              "  --sklearn-color-unfitted-level-0: #fff5e6;\n",
              "  --sklearn-color-unfitted-level-1: #f6e4d2;\n",
              "  --sklearn-color-unfitted-level-2: #ffe0b3;\n",
              "  --sklearn-color-unfitted-level-3: chocolate;\n",
              "  /* Definition of color scheme for fitted estimators */\n",
              "  --sklearn-color-fitted-level-0: #f0f8ff;\n",
              "  --sklearn-color-fitted-level-1: #d4ebff;\n",
              "  --sklearn-color-fitted-level-2: #b3dbfd;\n",
              "  --sklearn-color-fitted-level-3: cornflowerblue;\n",
              "\n",
              "  /* Specific color for light theme */\n",
              "  --sklearn-color-text-on-default-background: var(--sg-text-color, var(--theme-code-foreground, var(--jp-content-font-color1, black)));\n",
              "  --sklearn-color-background: var(--sg-background-color, var(--theme-background, var(--jp-layout-color0, white)));\n",
              "  --sklearn-color-border-box: var(--sg-text-color, var(--theme-code-foreground, var(--jp-content-font-color1, black)));\n",
              "  --sklearn-color-icon: #696969;\n",
              "\n",
              "  @media (prefers-color-scheme: dark) {\n",
              "    /* Redefinition of color scheme for dark theme */\n",
              "    --sklearn-color-text-on-default-background: var(--sg-text-color, var(--theme-code-foreground, var(--jp-content-font-color1, white)));\n",
              "    --sklearn-color-background: var(--sg-background-color, var(--theme-background, var(--jp-layout-color0, #111)));\n",
              "    --sklearn-color-border-box: var(--sg-text-color, var(--theme-code-foreground, var(--jp-content-font-color1, white)));\n",
              "    --sklearn-color-icon: #878787;\n",
              "  }\n",
              "}\n",
              "\n",
              "#sk-container-id-1 {\n",
              "  color: var(--sklearn-color-text);\n",
              "}\n",
              "\n",
              "#sk-container-id-1 pre {\n",
              "  padding: 0;\n",
              "}\n",
              "\n",
              "#sk-container-id-1 input.sk-hidden--visually {\n",
              "  border: 0;\n",
              "  clip: rect(1px 1px 1px 1px);\n",
              "  clip: rect(1px, 1px, 1px, 1px);\n",
              "  height: 1px;\n",
              "  margin: -1px;\n",
              "  overflow: hidden;\n",
              "  padding: 0;\n",
              "  position: absolute;\n",
              "  width: 1px;\n",
              "}\n",
              "\n",
              "#sk-container-id-1 div.sk-dashed-wrapped {\n",
              "  border: 1px dashed var(--sklearn-color-line);\n",
              "  margin: 0 0.4em 0.5em 0.4em;\n",
              "  box-sizing: border-box;\n",
              "  padding-bottom: 0.4em;\n",
              "  background-color: var(--sklearn-color-background);\n",
              "}\n",
              "\n",
              "#sk-container-id-1 div.sk-container {\n",
              "  /* jupyter's `normalize.less` sets `[hidden] { display: none; }`\n",
              "     but bootstrap.min.css set `[hidden] { display: none !important; }`\n",
              "     so we also need the `!important` here to be able to override the\n",
              "     default hidden behavior on the sphinx rendered scikit-learn.org.\n",
              "     See: https://github.com/scikit-learn/scikit-learn/issues/21755 */\n",
              "  display: inline-block !important;\n",
              "  position: relative;\n",
              "}\n",
              "\n",
              "#sk-container-id-1 div.sk-text-repr-fallback {\n",
              "  display: none;\n",
              "}\n",
              "\n",
              "div.sk-parallel-item,\n",
              "div.sk-serial,\n",
              "div.sk-item {\n",
              "  /* draw centered vertical line to link estimators */\n",
              "  background-image: linear-gradient(var(--sklearn-color-text-on-default-background), var(--sklearn-color-text-on-default-background));\n",
              "  background-size: 2px 100%;\n",
              "  background-repeat: no-repeat;\n",
              "  background-position: center center;\n",
              "}\n",
              "\n",
              "/* Parallel-specific style estimator block */\n",
              "\n",
              "#sk-container-id-1 div.sk-parallel-item::after {\n",
              "  content: \"\";\n",
              "  width: 100%;\n",
              "  border-bottom: 2px solid var(--sklearn-color-text-on-default-background);\n",
              "  flex-grow: 1;\n",
              "}\n",
              "\n",
              "#sk-container-id-1 div.sk-parallel {\n",
              "  display: flex;\n",
              "  align-items: stretch;\n",
              "  justify-content: center;\n",
              "  background-color: var(--sklearn-color-background);\n",
              "  position: relative;\n",
              "}\n",
              "\n",
              "#sk-container-id-1 div.sk-parallel-item {\n",
              "  display: flex;\n",
              "  flex-direction: column;\n",
              "}\n",
              "\n",
              "#sk-container-id-1 div.sk-parallel-item:first-child::after {\n",
              "  align-self: flex-end;\n",
              "  width: 50%;\n",
              "}\n",
              "\n",
              "#sk-container-id-1 div.sk-parallel-item:last-child::after {\n",
              "  align-self: flex-start;\n",
              "  width: 50%;\n",
              "}\n",
              "\n",
              "#sk-container-id-1 div.sk-parallel-item:only-child::after {\n",
              "  width: 0;\n",
              "}\n",
              "\n",
              "/* Serial-specific style estimator block */\n",
              "\n",
              "#sk-container-id-1 div.sk-serial {\n",
              "  display: flex;\n",
              "  flex-direction: column;\n",
              "  align-items: center;\n",
              "  background-color: var(--sklearn-color-background);\n",
              "  padding-right: 1em;\n",
              "  padding-left: 1em;\n",
              "}\n",
              "\n",
              "\n",
              "/* Toggleable style: style used for estimator/Pipeline/ColumnTransformer box that is\n",
              "clickable and can be expanded/collapsed.\n",
              "- Pipeline and ColumnTransformer use this feature and define the default style\n",
              "- Estimators will overwrite some part of the style using the `sk-estimator` class\n",
              "*/\n",
              "\n",
              "/* Pipeline and ColumnTransformer style (default) */\n",
              "\n",
              "#sk-container-id-1 div.sk-toggleable {\n",
              "  /* Default theme specific background. It is overwritten whether we have a\n",
              "  specific estimator or a Pipeline/ColumnTransformer */\n",
              "  background-color: var(--sklearn-color-background);\n",
              "}\n",
              "\n",
              "/* Toggleable label */\n",
              "#sk-container-id-1 label.sk-toggleable__label {\n",
              "  cursor: pointer;\n",
              "  display: block;\n",
              "  width: 100%;\n",
              "  margin-bottom: 0;\n",
              "  padding: 0.5em;\n",
              "  box-sizing: border-box;\n",
              "  text-align: center;\n",
              "}\n",
              "\n",
              "#sk-container-id-1 label.sk-toggleable__label-arrow:before {\n",
              "  /* Arrow on the left of the label */\n",
              "  content: \"▸\";\n",
              "  float: left;\n",
              "  margin-right: 0.25em;\n",
              "  color: var(--sklearn-color-icon);\n",
              "}\n",
              "\n",
              "#sk-container-id-1 label.sk-toggleable__label-arrow:hover:before {\n",
              "  color: var(--sklearn-color-text);\n",
              "}\n",
              "\n",
              "/* Toggleable content - dropdown */\n",
              "\n",
              "#sk-container-id-1 div.sk-toggleable__content {\n",
              "  max-height: 0;\n",
              "  max-width: 0;\n",
              "  overflow: hidden;\n",
              "  text-align: left;\n",
              "  /* unfitted */\n",
              "  background-color: var(--sklearn-color-unfitted-level-0);\n",
              "}\n",
              "\n",
              "#sk-container-id-1 div.sk-toggleable__content.fitted {\n",
              "  /* fitted */\n",
              "  background-color: var(--sklearn-color-fitted-level-0);\n",
              "}\n",
              "\n",
              "#sk-container-id-1 div.sk-toggleable__content pre {\n",
              "  margin: 0.2em;\n",
              "  border-radius: 0.25em;\n",
              "  color: var(--sklearn-color-text);\n",
              "  /* unfitted */\n",
              "  background-color: var(--sklearn-color-unfitted-level-0);\n",
              "}\n",
              "\n",
              "#sk-container-id-1 div.sk-toggleable__content.fitted pre {\n",
              "  /* unfitted */\n",
              "  background-color: var(--sklearn-color-fitted-level-0);\n",
              "}\n",
              "\n",
              "#sk-container-id-1 input.sk-toggleable__control:checked~div.sk-toggleable__content {\n",
              "  /* Expand drop-down */\n",
              "  max-height: 200px;\n",
              "  max-width: 100%;\n",
              "  overflow: auto;\n",
              "}\n",
              "\n",
              "#sk-container-id-1 input.sk-toggleable__control:checked~label.sk-toggleable__label-arrow:before {\n",
              "  content: \"▾\";\n",
              "}\n",
              "\n",
              "/* Pipeline/ColumnTransformer-specific style */\n",
              "\n",
              "#sk-container-id-1 div.sk-label input.sk-toggleable__control:checked~label.sk-toggleable__label {\n",
              "  color: var(--sklearn-color-text);\n",
              "  background-color: var(--sklearn-color-unfitted-level-2);\n",
              "}\n",
              "\n",
              "#sk-container-id-1 div.sk-label.fitted input.sk-toggleable__control:checked~label.sk-toggleable__label {\n",
              "  background-color: var(--sklearn-color-fitted-level-2);\n",
              "}\n",
              "\n",
              "/* Estimator-specific style */\n",
              "\n",
              "/* Colorize estimator box */\n",
              "#sk-container-id-1 div.sk-estimator input.sk-toggleable__control:checked~label.sk-toggleable__label {\n",
              "  /* unfitted */\n",
              "  background-color: var(--sklearn-color-unfitted-level-2);\n",
              "}\n",
              "\n",
              "#sk-container-id-1 div.sk-estimator.fitted input.sk-toggleable__control:checked~label.sk-toggleable__label {\n",
              "  /* fitted */\n",
              "  background-color: var(--sklearn-color-fitted-level-2);\n",
              "}\n",
              "\n",
              "#sk-container-id-1 div.sk-label label.sk-toggleable__label,\n",
              "#sk-container-id-1 div.sk-label label {\n",
              "  /* The background is the default theme color */\n",
              "  color: var(--sklearn-color-text-on-default-background);\n",
              "}\n",
              "\n",
              "/* On hover, darken the color of the background */\n",
              "#sk-container-id-1 div.sk-label:hover label.sk-toggleable__label {\n",
              "  color: var(--sklearn-color-text);\n",
              "  background-color: var(--sklearn-color-unfitted-level-2);\n",
              "}\n",
              "\n",
              "/* Label box, darken color on hover, fitted */\n",
              "#sk-container-id-1 div.sk-label.fitted:hover label.sk-toggleable__label.fitted {\n",
              "  color: var(--sklearn-color-text);\n",
              "  background-color: var(--sklearn-color-fitted-level-2);\n",
              "}\n",
              "\n",
              "/* Estimator label */\n",
              "\n",
              "#sk-container-id-1 div.sk-label label {\n",
              "  font-family: monospace;\n",
              "  font-weight: bold;\n",
              "  display: inline-block;\n",
              "  line-height: 1.2em;\n",
              "}\n",
              "\n",
              "#sk-container-id-1 div.sk-label-container {\n",
              "  text-align: center;\n",
              "}\n",
              "\n",
              "/* Estimator-specific */\n",
              "#sk-container-id-1 div.sk-estimator {\n",
              "  font-family: monospace;\n",
              "  border: 1px dotted var(--sklearn-color-border-box);\n",
              "  border-radius: 0.25em;\n",
              "  box-sizing: border-box;\n",
              "  margin-bottom: 0.5em;\n",
              "  /* unfitted */\n",
              "  background-color: var(--sklearn-color-unfitted-level-0);\n",
              "}\n",
              "\n",
              "#sk-container-id-1 div.sk-estimator.fitted {\n",
              "  /* fitted */\n",
              "  background-color: var(--sklearn-color-fitted-level-0);\n",
              "}\n",
              "\n",
              "/* on hover */\n",
              "#sk-container-id-1 div.sk-estimator:hover {\n",
              "  /* unfitted */\n",
              "  background-color: var(--sklearn-color-unfitted-level-2);\n",
              "}\n",
              "\n",
              "#sk-container-id-1 div.sk-estimator.fitted:hover {\n",
              "  /* fitted */\n",
              "  background-color: var(--sklearn-color-fitted-level-2);\n",
              "}\n",
              "\n",
              "/* Specification for estimator info (e.g. \"i\" and \"?\") */\n",
              "\n",
              "/* Common style for \"i\" and \"?\" */\n",
              "\n",
              ".sk-estimator-doc-link,\n",
              "a:link.sk-estimator-doc-link,\n",
              "a:visited.sk-estimator-doc-link {\n",
              "  float: right;\n",
              "  font-size: smaller;\n",
              "  line-height: 1em;\n",
              "  font-family: monospace;\n",
              "  background-color: var(--sklearn-color-background);\n",
              "  border-radius: 1em;\n",
              "  height: 1em;\n",
              "  width: 1em;\n",
              "  text-decoration: none !important;\n",
              "  margin-left: 1ex;\n",
              "  /* unfitted */\n",
              "  border: var(--sklearn-color-unfitted-level-1) 1pt solid;\n",
              "  color: var(--sklearn-color-unfitted-level-1);\n",
              "}\n",
              "\n",
              ".sk-estimator-doc-link.fitted,\n",
              "a:link.sk-estimator-doc-link.fitted,\n",
              "a:visited.sk-estimator-doc-link.fitted {\n",
              "  /* fitted */\n",
              "  border: var(--sklearn-color-fitted-level-1) 1pt solid;\n",
              "  color: var(--sklearn-color-fitted-level-1);\n",
              "}\n",
              "\n",
              "/* On hover */\n",
              "div.sk-estimator:hover .sk-estimator-doc-link:hover,\n",
              ".sk-estimator-doc-link:hover,\n",
              "div.sk-label-container:hover .sk-estimator-doc-link:hover,\n",
              ".sk-estimator-doc-link:hover {\n",
              "  /* unfitted */\n",
              "  background-color: var(--sklearn-color-unfitted-level-3);\n",
              "  color: var(--sklearn-color-background);\n",
              "  text-decoration: none;\n",
              "}\n",
              "\n",
              "div.sk-estimator.fitted:hover .sk-estimator-doc-link.fitted:hover,\n",
              ".sk-estimator-doc-link.fitted:hover,\n",
              "div.sk-label-container:hover .sk-estimator-doc-link.fitted:hover,\n",
              ".sk-estimator-doc-link.fitted:hover {\n",
              "  /* fitted */\n",
              "  background-color: var(--sklearn-color-fitted-level-3);\n",
              "  color: var(--sklearn-color-background);\n",
              "  text-decoration: none;\n",
              "}\n",
              "\n",
              "/* Span, style for the box shown on hovering the info icon */\n",
              ".sk-estimator-doc-link span {\n",
              "  display: none;\n",
              "  z-index: 9999;\n",
              "  position: relative;\n",
              "  font-weight: normal;\n",
              "  right: .2ex;\n",
              "  padding: .5ex;\n",
              "  margin: .5ex;\n",
              "  width: min-content;\n",
              "  min-width: 20ex;\n",
              "  max-width: 50ex;\n",
              "  color: var(--sklearn-color-text);\n",
              "  box-shadow: 2pt 2pt 4pt #999;\n",
              "  /* unfitted */\n",
              "  background: var(--sklearn-color-unfitted-level-0);\n",
              "  border: .5pt solid var(--sklearn-color-unfitted-level-3);\n",
              "}\n",
              "\n",
              ".sk-estimator-doc-link.fitted span {\n",
              "  /* fitted */\n",
              "  background: var(--sklearn-color-fitted-level-0);\n",
              "  border: var(--sklearn-color-fitted-level-3);\n",
              "}\n",
              "\n",
              ".sk-estimator-doc-link:hover span {\n",
              "  display: block;\n",
              "}\n",
              "\n",
              "/* \"?\"-specific style due to the `<a>` HTML tag */\n",
              "\n",
              "#sk-container-id-1 a.estimator_doc_link {\n",
              "  float: right;\n",
              "  font-size: 1rem;\n",
              "  line-height: 1em;\n",
              "  font-family: monospace;\n",
              "  background-color: var(--sklearn-color-background);\n",
              "  border-radius: 1rem;\n",
              "  height: 1rem;\n",
              "  width: 1rem;\n",
              "  text-decoration: none;\n",
              "  /* unfitted */\n",
              "  color: var(--sklearn-color-unfitted-level-1);\n",
              "  border: var(--sklearn-color-unfitted-level-1) 1pt solid;\n",
              "}\n",
              "\n",
              "#sk-container-id-1 a.estimator_doc_link.fitted {\n",
              "  /* fitted */\n",
              "  border: var(--sklearn-color-fitted-level-1) 1pt solid;\n",
              "  color: var(--sklearn-color-fitted-level-1);\n",
              "}\n",
              "\n",
              "/* On hover */\n",
              "#sk-container-id-1 a.estimator_doc_link:hover {\n",
              "  /* unfitted */\n",
              "  background-color: var(--sklearn-color-unfitted-level-3);\n",
              "  color: var(--sklearn-color-background);\n",
              "  text-decoration: none;\n",
              "}\n",
              "\n",
              "#sk-container-id-1 a.estimator_doc_link.fitted:hover {\n",
              "  /* fitted */\n",
              "  background-color: var(--sklearn-color-fitted-level-3);\n",
              "}\n",
              "</style><div id=\"sk-container-id-1\" class=\"sk-top-container\"><div class=\"sk-text-repr-fallback\"><pre>KMeans(n_clusters=3)</pre><b>In a Jupyter environment, please rerun this cell to show the HTML representation or trust the notebook. <br />On GitHub, the HTML representation is unable to render, please try loading this page with nbviewer.org.</b></div><div class=\"sk-container\" hidden><div class=\"sk-item\"><div class=\"sk-estimator fitted sk-toggleable\"><input class=\"sk-toggleable__control sk-hidden--visually\" id=\"sk-estimator-id-1\" type=\"checkbox\" checked><label for=\"sk-estimator-id-1\" class=\"sk-toggleable__label fitted sk-toggleable__label-arrow fitted\">&nbsp;&nbsp;KMeans<a class=\"sk-estimator-doc-link fitted\" rel=\"noreferrer\" target=\"_blank\" href=\"https://scikit-learn.org/1.5/modules/generated/sklearn.cluster.KMeans.html\">?<span>Documentation for KMeans</span></a><span class=\"sk-estimator-doc-link fitted\">i<span>Fitted</span></span></label><div class=\"sk-toggleable__content fitted\"><pre>KMeans(n_clusters=3)</pre></div> </div></div></div></div>"
            ]
          },
          "metadata": {},
          "execution_count": 43
        }
      ]
    },
    {
      "cell_type": "code",
      "source": [
        "center=Kmean.cluster_centers_\n",
        "center"
      ],
      "metadata": {
        "colab": {
          "base_uri": "https://localhost:8080/"
        },
        "collapsed": true,
        "id": "EP2bUpvZBZ6H",
        "outputId": "b67574f4-989a-4fc5-e728-66122b6f84b5"
      },
      "execution_count": 44,
      "outputs": [
        {
          "output_type": "execute_result",
          "data": {
            "text/plain": [
              "array([[-1.40716399, -1.51965402],\n",
              "       [ 1.35119724,  1.31133204],\n",
              "       [-0.2088759 , -0.15779476]])"
            ]
          },
          "metadata": {},
          "execution_count": 44
        }
      ]
    },
    {
      "cell_type": "code",
      "source": [
        "# O‘quv(train) to‘plam uchun model natijasi\n",
        "Kmean_train_pred = Kmean.predict(x_train)\n",
        "print(Kmean_train_pred)"
      ],
      "metadata": {
        "colab": {
          "base_uri": "https://localhost:8080/"
        },
        "id": "OBzx_KKVBhZR",
        "outputId": "2ddde33f-4930-472c-d202-a9df11409447"
      },
      "execution_count": 46,
      "outputs": [
        {
          "output_type": "stream",
          "name": "stdout",
          "text": [
            "[2 2 2 2 0 2 1 2 2 1 2 2 2 0 1 2 2 1 2 2 1 2 0 1 1 2 2 2 2 0 2 0 1 2 2 2 0\n",
            " 2 1 1 1 0]\n"
          ]
        }
      ]
    },
    {
      "cell_type": "code",
      "source": [
        "# Sinov(test) to‘plam uchun model natijasi\n",
        "Kmean_test_pred = Kmean.predict(x_test)\n",
        "print(Kmean_test_pred)"
      ],
      "metadata": {
        "colab": {
          "base_uri": "https://localhost:8080/"
        },
        "id": "BGdL2dCrBj9U",
        "outputId": "d210a59e-55bd-4870-ee8d-38d1f418f7f2"
      },
      "execution_count": 48,
      "outputs": [
        {
          "output_type": "stream",
          "name": "stdout",
          "text": [
            "[2 2 2 2 2 0 1 2 2 2 2 1 2 0 0 2 2 2]\n"
          ]
        }
      ]
    },
    {
      "cell_type": "code",
      "source": [
        "plt.figure(figsize=(12,6))\n",
        "plt.subplot(1,2,1)\n",
        "\n",
        "plt.title('Haqiqiy')\n",
        "plt.xlabel('Gultoj_uzunligi')\n",
        "plt.ylabel('Gultoj_kengligi')\n",
        "plt.scatter(*(x_train[:,0:2])[y_train==0].T,\n",
        "        s=50, alpha=0.8,label='sinf-0')\n",
        "plt.scatter(*(x_train[:,0:2])[y_train==1].T,\n",
        "        s=50, alpha=0.8,label='sinf-1')\n",
        "plt.scatter(*(x_train[:,0:2])[y_train==2].T,\n",
        "        s=50, alpha=0.8,label='sinf-2')\n",
        "plt.legend()\n",
        "\n",
        "plt.subplot(1,2,2)\n",
        "plt.title('K-Means')\n",
        "plt.xlabel('Gultoj_uzunligi')\n",
        "plt.ylabel('Gultoj_kengligi')\n",
        "plt.scatter(*(x_train[:,0:2])[Kmean_train_pred==0].T,\n",
        "          s=50, alpha=0.8,label='Cluster-0')\n",
        "plt.scatter(*(x_train[:,0:2])[Kmean_train_pred==1].T,\n",
        "          s=50, alpha=0.8,label='Cluster-1')\n",
        "plt.scatter(*(x_train[:,0:2])[Kmean_train_pred==2].T,\n",
        "          s=50, alpha=0.8,label='Cluster-2')\n",
        "plt.legend()\n",
        "for i in center:\n",
        "    plt.scatter(i[0],i[1], s=50, c='k', marker='o')\n",
        "plt.show()"
      ],
      "metadata": {
        "colab": {
          "base_uri": "https://localhost:8080/",
          "height": 448
        },
        "id": "N_LMr3MeBmO3",
        "outputId": "53b199cd-953b-405f-d420-8ce9bd268680"
      },
      "execution_count": 54,
      "outputs": [
        {
          "output_type": "display_data",
          "data": {
            "text/plain": [
              "<Figure size 1200x600 with 2 Axes>"
            ],
            "image/png": "[encoded data removed]"
          },
          "metadata": {}
        }
      ]
    },
    {
      "cell_type": "code",
      "source": [
        "plt.figure(figsize=(12,6))\n",
        "plt.subplot(1,2,1)\n",
        "\n",
        "plt.title('Haqiqiy')\n",
        "plt.xlabel('Gultoj_uzunligi')\n",
        "plt.ylabel('Gultoj_kengligi')\n",
        "plt.scatter(*(x_test[:,0:2])[y_test==0].T,\n",
        "      s=50, alpha=0.8,label='sinf-0')\n",
        "plt.scatter(*(x_test[:,0:2])[y_test==1].T,\n",
        "      s=50, alpha=0.8,label='sinf-1')\n",
        "plt.scatter(*(x_test[:,0:2])[y_test==2].T,\n",
        "      s=50, alpha=0.8,label='sinf-2')\n",
        "plt.legend()\n",
        "\n",
        "plt.subplot(1,2,2)\n",
        "plt.title('K-Means')\n",
        "plt.xlabel('Gultoj_uzunligi')\n",
        "plt.ylabel('Gultoj_kengligi')\n",
        "plt.scatter(*(x_test[:,0:2])[Kmean_test_pred==0].T,\n",
        "          s=50, alpha=0.8,label='Cluster-0')\n",
        "plt.scatter(*(x_test[:,0:2])[Kmean_test_pred==1].T,\n",
        "          s=50, alpha=0.8,label='Cluster-1')\n",
        "plt.scatter(*(x_test[:,0:2])[Kmean_test_pred==2].T,\n",
        "          s=50, alpha=0.8,label='Cluster-2')\n",
        "plt.legend()\n",
        "for i in center:\n",
        "    plt.scatter(i[0],i[1], s=50, c='k', marker='o')\n",
        "plt.show()"
      ],
      "metadata": {
        "colab": {
          "base_uri": "https://localhost:8080/",
          "height": 448
        },
        "id": "JLvwT8qOHXN5",
        "outputId": "8a61e98a-16eb-4447-ec2f-638cf5f22668"
      },
      "execution_count": 56,
      "outputs": [
        {
          "output_type": "display_data",
          "data": {
            "text/plain": [
              "<Figure size 1200x600 with 2 Axes>"
            ],
            "image/png": "[encoded data removed]"
          },
          "metadata": {}
        }
      ]
    },
    {
      "cell_type": "code",
      "source": [
        "y_train"
      ],
      "metadata": {
        "colab": {
          "base_uri": "https://localhost:8080/"
        },
        "id": "Zq7VdV3qH_FX",
        "outputId": "bba804ad-657f-492c-cd7e-2eecbcbfae9c"
      },
      "execution_count": 57,
      "outputs": [
        {
          "output_type": "execute_result",
          "data": {
            "text/plain": [
              "array([1, 1, 1, 1, 0, 1, 2, 1, 1, 2, 1, 1, 1, 0, 2, 1, 1, 2, 1, 1, 2, 1,\n",
              "       0, 2, 2, 1, 1, 1, 1, 0, 1, 0, 2, 1, 1, 1, 0, 1, 2, 2, 2, 0])"
            ]
          },
          "metadata": {},
          "execution_count": 57
        }
      ]
    },
    {
      "cell_type": "code",
      "source": [
        "Kmean_train_pred=Kmean_train_pred+5\n",
        "Kmean_train_pred"
      ],
      "metadata": {
        "colab": {
          "base_uri": "https://localhost:8080/"
        },
        "id": "Ubl3cF3nIAoe",
        "outputId": "0f3c5194-1720-491a-eaf6-587ee85d14a6"
      },
      "execution_count": 58,
      "outputs": [
        {
          "output_type": "execute_result",
          "data": {
            "text/plain": [
              "array([7, 7, 7, 7, 5, 7, 6, 7, 7, 6, 7, 7, 7, 5, 6, 7, 7, 6, 7, 7, 6, 7,\n",
              "       5, 6, 6, 7, 7, 7, 7, 5, 7, 5, 6, 7, 7, 7, 5, 7, 6, 6, 6, 5],\n",
              "      dtype=int32)"
            ]
          },
          "metadata": {},
          "execution_count": 58
        }
      ]
    },
    {
      "cell_type": "code",
      "source": [
        "Kmean_train_pred[Kmean_train_pred==5]=0\n",
        "Kmean_train_pred[Kmean_train_pred==6]=2\n",
        "Kmean_train_pred[Kmean_train_pred==7]=1\n",
        "Kmean_train_pred"
      ],
      "metadata": {
        "colab": {
          "base_uri": "https://localhost:8080/"
        },
        "id": "rQKngT_xIUgb",
        "outputId": "9eedbd66-044b-45d0-d5db-7210fff8b1d9"
      },
      "execution_count": 59,
      "outputs": [
        {
          "output_type": "execute_result",
          "data": {
            "text/plain": [
              "array([1, 1, 1, 1, 0, 1, 2, 1, 1, 2, 1, 1, 1, 0, 2, 1, 1, 2, 1, 1, 2, 1,\n",
              "       0, 2, 2, 1, 1, 1, 1, 0, 1, 0, 2, 1, 1, 1, 0, 1, 2, 2, 2, 0],\n",
              "      dtype=int32)"
            ]
          },
          "metadata": {},
          "execution_count": 59
        }
      ]
    },
    {
      "cell_type": "code",
      "source": [
        "# Kerakli kutubxonalarni yuklash\n",
        "from sklearn.metrics import classification_report\n",
        "from sklearn.metrics import confusion_matrix, accuracy_score\n",
        "import seaborn as sns"
      ],
      "metadata": {
        "id": "wyTp1mDDIXpY"
      },
      "execution_count": 60,
      "outputs": []
    },
    {
      "cell_type": "code",
      "source": [
        "kmeans_train_baholash = confusion_matrix(y_train,\n",
        "                                      Kmean_train_pred)\n",
        "print(\"Chalkashlik matritsasi: \")\n",
        "print(kmeans_train_baholash)"
      ],
      "metadata": {
        "colab": {
          "base_uri": "https://localhost:8080/"
        },
        "id": "5QaMlbeVIdM2",
        "outputId": "908c8900-40df-4db5-add5-e436a111f984"
      },
      "execution_count": 61,
      "outputs": [
        {
          "output_type": "stream",
          "name": "stdout",
          "text": [
            "Chalkashlik matritsasi: \n",
            "[[ 7  0  0]\n",
            " [ 0 24  0]\n",
            " [ 0  0 11]]\n"
          ]
        }
      ]
    },
    {
      "cell_type": "code",
      "source": [
        "# O‘quv(train) to‘plam uchun model aniqligi\n",
        "kmeans_train_score = accuracy_score(y_train,\n",
        "                              Kmean_train_pred)\n",
        "print(\"Accuracy (Aniqlik):\", kmeans_train_score)"
      ],
      "metadata": {
        "colab": {
          "base_uri": "https://localhost:8080/"
        },
        "id": "bxZgg4J4IkOE",
        "outputId": "dfd37b91-2541-4dbb-9b33-fdc74e7556cb"
      },
      "execution_count": 62,
      "outputs": [
        {
          "output_type": "stream",
          "name": "stdout",
          "text": [
            "Accuracy (Aniqlik): 1.0\n"
          ]
        }
      ]
    },
    {
      "cell_type": "code",
      "source": [
        "plt.figure(figsize=(4,4))\n",
        "sns.heatmap(kmeans_train_baholash, annot=True,\n",
        "            fmt=\".3f\", linewidths=.1, square = True,\n",
        "            cmap = 'inferno', alpha = 0.4);\n",
        "plt.ylabel('Haqiqiy yorliq');\n",
        "plt.xlabel('Bashoratli yorliq');\n",
        "matritsa =\"Aniqlik ko'rsatkichi:{0}\".format(kmeans_train_score)\n",
        "plt.title(matritsa, size = 9);"
      ],
      "metadata": {
        "colab": {
          "base_uri": "https://localhost:8080/",
          "height": 358
        },
        "id": "hCYHALWUIpRw",
        "outputId": "6c4abfa8-b232-41d6-866e-2420b1692e45"
      },
      "execution_count": 63,
      "outputs": [
        {
          "output_type": "display_data",
          "data": {
            "text/plain": [
              "<Figure size 400x400 with 2 Axes>"
            ],
            "image/png": "[encoded data removed]"
          },
          "metadata": {}
        }
      ]
    },
    {
      "cell_type": "code",
      "source": [
        "kmeans_train_hisobot = classification_report(y_train,\n",
        "                                        Kmean_train_pred)\n",
        "print(\"Klasterlash  hisoboti:\")\n",
        "print (kmeans_train_hisobot)"
      ],
      "metadata": {
        "colab": {
          "base_uri": "https://localhost:8080/"
        },
        "id": "IgmkBujRI0CT",
        "outputId": "5a6902fd-9dc9-47e3-c1c9-74943257bf5a"
      },
      "execution_count": 64,
      "outputs": [
        {
          "output_type": "stream",
          "name": "stdout",
          "text": [
            "Klasterlash  hisoboti:\n",
            "              precision    recall  f1-score   support\n",
            "\n",
            "           0       1.00      1.00      1.00         7\n",
            "           1       1.00      1.00      1.00        24\n",
            "           2       1.00      1.00      1.00        11\n",
            "\n",
            "    accuracy                           1.00        42\n",
            "   macro avg       1.00      1.00      1.00        42\n",
            "weighted avg       1.00      1.00      1.00        42\n",
            "\n"
          ]
        }
      ]
    },
    {
      "cell_type": "code",
      "source": [
        "y_test"
      ],
      "metadata": {
        "colab": {
          "base_uri": "https://localhost:8080/"
        },
        "id": "AuNa6fWjI8m1",
        "outputId": "60015711-402b-48f8-911f-27eb1d1b9f69"
      },
      "execution_count": 65,
      "outputs": [
        {
          "output_type": "execute_result",
          "data": {
            "text/plain": [
              "array([1, 1, 1, 1, 1, 0, 2, 1, 1, 1, 1, 2, 1, 0, 0, 1, 1, 1])"
            ]
          },
          "metadata": {},
          "execution_count": 65
        }
      ]
    },
    {
      "cell_type": "code",
      "source": [
        "Kmean_test_pred=Kmean_test_pred+5\n",
        "Kmean_test_pred"
      ],
      "metadata": {
        "colab": {
          "base_uri": "https://localhost:8080/"
        },
        "id": "-M4uazkAJG1r",
        "outputId": "9595cbbc-02d5-4210-f281-2122cf0a443b"
      },
      "execution_count": 66,
      "outputs": [
        {
          "output_type": "execute_result",
          "data": {
            "text/plain": [
              "array([7, 7, 7, 7, 7, 5, 6, 7, 7, 7, 7, 6, 7, 5, 5, 7, 7, 7], dtype=int32)"
            ]
          },
          "metadata": {},
          "execution_count": 66
        }
      ]
    },
    {
      "cell_type": "code",
      "source": [
        "Kmean_test_pred[Kmean_test_pred==5]=0\n",
        "Kmean_test_pred[Kmean_test_pred==6]=2\n",
        "Kmean_test_pred[Kmean_test_pred==7]=1\n",
        "Kmean_test_pred"
      ],
      "metadata": {
        "colab": {
          "base_uri": "https://localhost:8080/"
        },
        "id": "z6q8ikX1JLHY",
        "outputId": "aa8c7321-d4f3-4752-efa2-bbc528049416"
      },
      "execution_count": 67,
      "outputs": [
        {
          "output_type": "execute_result",
          "data": {
            "text/plain": [
              "array([1, 1, 1, 1, 1, 0, 2, 1, 1, 1, 1, 2, 1, 0, 0, 1, 1, 1], dtype=int32)"
            ]
          },
          "metadata": {},
          "execution_count": 67
        }
      ]
    },
    {
      "cell_type": "code",
      "source": [
        "kmeans_test_baholash=confusion_matrix(y_test,Kmean_test_pred)\n",
        "print(\"Chalkashlik matritsasi: \")\n",
        "print(kmeans_test_baholash)"
      ],
      "metadata": {
        "colab": {
          "base_uri": "https://localhost:8080/"
        },
        "id": "Y87TNlxVJMkn",
        "outputId": "10d5d58b-c0eb-4c9c-ecf7-06e9071b862d"
      },
      "execution_count": 68,
      "outputs": [
        {
          "output_type": "stream",
          "name": "stdout",
          "text": [
            "Chalkashlik matritsasi: \n",
            "[[ 3  0  0]\n",
            " [ 0 13  0]\n",
            " [ 0  0  2]]\n"
          ]
        }
      ]
    },
    {
      "cell_type": "code",
      "source": [
        "# Sinov(test) to‘plam uchun model aniqligi\n",
        "\n",
        "kmeans_test_score = accuracy_score(y_test, Kmean_test_pred)\n",
        "print(\"Accuracy (Aniqlik):\", kmeans_test_score)"
      ],
      "metadata": {
        "colab": {
          "base_uri": "https://localhost:8080/"
        },
        "id": "jFeHM25PJRC3",
        "outputId": "dafeb6f8-6c77-4534-e4ad-73c627824df4"
      },
      "execution_count": 69,
      "outputs": [
        {
          "output_type": "stream",
          "name": "stdout",
          "text": [
            "Accuracy (Aniqlik): 1.0\n"
          ]
        }
      ]
    },
    {
      "cell_type": "code",
      "source": [
        "plt.figure(figsize=(4,4))\n",
        "sns.heatmap(kmeans_test_baholash, annot=True,\n",
        "        fmt=\".3f\", linewidths=.1, square = True,\n",
        "        cmap = 'inferno', alpha = 0.4);\n",
        "plt.ylabel('Haqiqiy yorliq');\n",
        "plt.xlabel('Bashoratli yorliq');\n",
        "matritsa =\"Aniqlik ko'rsatkichi:{0}\".format(kmeans_train_score)\n",
        "plt.title(matritsa, size = 9);"
      ],
      "metadata": {
        "colab": {
          "base_uri": "https://localhost:8080/",
          "height": 358
        },
        "id": "pY1rocsYJSdK",
        "outputId": "0b27908a-7014-4398-871c-3731bb310407"
      },
      "execution_count": 70,
      "outputs": [
        {
          "output_type": "display_data",
          "data": {
            "text/plain": [
              "<Figure size 400x400 with 2 Axes>"
            ],
            "image/png": "[encoded data removed]"
          },
          "metadata": {}
        }
      ]
    },
    {
      "cell_type": "code",
      "source": [
        "kmeans_test_hisobot = classification_report(y_test,\n",
        "                                Kmean_test_pred)\n",
        "print(\"Klasterlash hisoboti:\")\n",
        "print (kmeans_test_hisobot)"
      ],
      "metadata": {
        "colab": {
          "base_uri": "https://localhost:8080/"
        },
        "id": "hArKYvJ7JYeU",
        "outputId": "f3512f9b-74e7-4a6a-d194-7e10d1625ce9"
      },
      "execution_count": 71,
      "outputs": [
        {
          "output_type": "stream",
          "name": "stdout",
          "text": [
            "Klasterlash hisoboti:\n",
            "              precision    recall  f1-score   support\n",
            "\n",
            "           0       1.00      1.00      1.00         3\n",
            "           1       1.00      1.00      1.00        13\n",
            "           2       1.00      1.00      1.00         2\n",
            "\n",
            "    accuracy                           1.00        18\n",
            "   macro avg       1.00      1.00      1.00        18\n",
            "weighted avg       1.00      1.00      1.00        18\n",
            "\n"
          ]
        }
      ]
    },
    {
      "cell_type": "code",
      "source": [
        "# O‘quv(train) to‘plami uchun\n",
        "import scipy.cluster.hierarchy as shc\n",
        "# metod(usuli){'weighted', single', 'complete', 'average',\n",
        "# 'centroid', 'median', yoki 'ward'} foydalanish mumkin\n",
        "dendro = shc.dendrogram(shc.linkage(x_train, method=\"weighted\"))\n",
        "plt.title(\"Dendrogramma\")\n",
        "plt.ylabel(\"Evklid masofasi\")\n",
        "plt.xlabel(\"Klasterlar\")\n",
        "plt.show()"
      ],
      "metadata": {
        "colab": {
          "base_uri": "https://localhost:8080/",
          "height": 472
        },
        "id": "QdImkiInJeuZ",
        "outputId": "1db56788-dc1f-4cbf-9a49-74dc4bbe3286"
      },
      "execution_count": 73,
      "outputs": [
        {
          "output_type": "display_data",
          "data": {
            "text/plain": [
              "<Figure size 640x480 with 1 Axes>"
            ],
            "image/png": "[encoded data removed]"
          },
          "metadata": {}
        }
      ]
    },
    {
      "cell_type": "code",
      "source": [
        "# Sinov(test) to‘plami uchun\n",
        "import scipy.cluster.hierarchy as shc\n",
        "# metod(usuli){'weighted', single', 'complete', 'average',\n",
        "# 'centroid', 'median', yoki 'ward'} foydalanish mumkin\n",
        "dendro = shc.dendrogram(shc.linkage(x_test, method=\"weighted\"))\n",
        "plt.title(\"Dendrogramma\")\n",
        "plt.ylabel(\"Evklid masofasi\")\n",
        "plt.xlabel(\"Klasterlar\")\n",
        "plt.show()"
      ],
      "metadata": {
        "colab": {
          "base_uri": "https://localhost:8080/",
          "height": 476
        },
        "id": "kEB5Q-1mJqP-",
        "outputId": "f3041059-536a-471a-8588-a4b1437faa2c"
      },
      "execution_count": 74,
      "outputs": [
        {
          "output_type": "display_data",
          "data": {
            "text/plain": [
              "<Figure size 640x480 with 1 Axes>"
            ],
            "image/png": "[encoded data removed]"
          },
          "metadata": {}
        }
      ]
    },
    {
      "cell_type": "code",
      "source": [
        "from sklearn.cluster import AgglomerativeClustering\n",
        "#     affinity(yaqinlik masofasi){'euclidean', 'l1', 'l2', ..\n",
        "#     ...'manhattan', 'cosine', yoki 'precomputed'}\n",
        "#     linkage(bog'lanish){'ward','complete','average', 'single'}\n",
        "#     Eslatma: ward bog'lanishda faqat\n",
        "#     euclidean masofasidan foydalanish mumkin\n",
        "\n",
        "cluster = AgglomerativeClustering(n_clusters=3,\n",
        "                  metric='l1', linkage='complete')\n",
        "cluster.fit(x_train)"
      ],
      "metadata": {
        "colab": {
          "base_uri": "https://localhost:8080/",
          "height": 80
        },
        "id": "yPjaZafLJzD-",
        "outputId": "1c817b45-170b-480a-c47b-b28632b3429c"
      },
      "execution_count": 76,
      "outputs": [
        {
          "output_type": "execute_result",
          "data": {
            "text/plain": [
              "AgglomerativeClustering(linkage='complete', metric='l1', n_clusters=3)"
            ],
            "text/html": [
              "<style>#sk-container-id-2 {\n",
              "  /* Definition of color scheme common for light and dark mode */\n",
              "  --sklearn-color-text: black;\n",
              "  --sklearn-color-line: gray;\n",
              "  /* Definition of color scheme for unfitted estimators */\n",
              "  --sklearn-color-unfitted-level-0: #fff5e6;\n",
              "  --sklearn-color-unfitted-level-1: #f6e4d2;\n",
              "  --sklearn-color-unfitted-level-2: #ffe0b3;\n",
              "  --sklearn-color-unfitted-level-3: chocolate;\n",
              "  /* Definition of color scheme for fitted estimators */\n",
              "  --sklearn-color-fitted-level-0: #f0f8ff;\n",
              "  --sklearn-color-fitted-level-1: #d4ebff;\n",
              "  --sklearn-color-fitted-level-2: #b3dbfd;\n",
              "  --sklearn-color-fitted-level-3: cornflowerblue;\n",
              "\n",
              "  /* Specific color for light theme */\n",
              "  --sklearn-color-text-on-default-background: var(--sg-text-color, var(--theme-code-foreground, var(--jp-content-font-color1, black)));\n",
              "  --sklearn-color-background: var(--sg-background-color, var(--theme-background, var(--jp-layout-color0, white)));\n",
              "  --sklearn-color-border-box: var(--sg-text-color, var(--theme-code-foreground, var(--jp-content-font-color1, black)));\n",
              "  --sklearn-color-icon: #696969;\n",
              "\n",
              "  @media (prefers-color-scheme: dark) {\n",
              "    /* Redefinition of color scheme for dark theme */\n",
              "    --sklearn-color-text-on-default-background: var(--sg-text-color, var(--theme-code-foreground, var(--jp-content-font-color1, white)));\n",
              "    --sklearn-color-background: var(--sg-background-color, var(--theme-background, var(--jp-layout-color0, #111)));\n",
              "    --sklearn-color-border-box: var(--sg-text-color, var(--theme-code-foreground, var(--jp-content-font-color1, white)));\n",
              "    --sklearn-color-icon: #878787;\n",
              "  }\n",
              "}\n",
              "\n",
              "#sk-container-id-2 {\n",
              "  color: var(--sklearn-color-text);\n",
              "}\n",
              "\n",
              "#sk-container-id-2 pre {\n",
              "  padding: 0;\n",
              "}\n",
              "\n",
              "#sk-container-id-2 input.sk-hidden--visually {\n",
              "  border: 0;\n",
              "  clip: rect(1px 1px 1px 1px);\n",
              "  clip: rect(1px, 1px, 1px, 1px);\n",
              "  height: 1px;\n",
              "  margin: -1px;\n",
              "  overflow: hidden;\n",
              "  padding: 0;\n",
              "  position: absolute;\n",
              "  width: 1px;\n",
              "}\n",
              "\n",
              "#sk-container-id-2 div.sk-dashed-wrapped {\n",
              "  border: 1px dashed var(--sklearn-color-line);\n",
              "  margin: 0 0.4em 0.5em 0.4em;\n",
              "  box-sizing: border-box;\n",
              "  padding-bottom: 0.4em;\n",
              "  background-color: var(--sklearn-color-background);\n",
              "}\n",
              "\n",
              "#sk-container-id-2 div.sk-container {\n",
              "  /* jupyter's `normalize.less` sets `[hidden] { display: none; }`\n",
              "     but bootstrap.min.css set `[hidden] { display: none !important; }`\n",
              "     so we also need the `!important` here to be able to override the\n",
              "     default hidden behavior on the sphinx rendered scikit-learn.org.\n",
              "     See: https://github.com/scikit-learn/scikit-learn/issues/21755 */\n",
              "  display: inline-block !important;\n",
              "  position: relative;\n",
              "}\n",
              "\n",
              "#sk-container-id-2 div.sk-text-repr-fallback {\n",
              "  display: none;\n",
              "}\n",
              "\n",
              "div.sk-parallel-item,\n",
              "div.sk-serial,\n",
              "div.sk-item {\n",
              "  /* draw centered vertical line to link estimators */\n",
              "  background-image: linear-gradient(var(--sklearn-color-text-on-default-background), var(--sklearn-color-text-on-default-background));\n",
              "  background-size: 2px 100%;\n",
              "  background-repeat: no-repeat;\n",
              "  background-position: center center;\n",
              "}\n",
              "\n",
              "/* Parallel-specific style estimator block */\n",
              "\n",
              "#sk-container-id-2 div.sk-parallel-item::after {\n",
              "  content: \"\";\n",
              "  width: 100%;\n",
              "  border-bottom: 2px solid var(--sklearn-color-text-on-default-background);\n",
              "  flex-grow: 1;\n",
              "}\n",
              "\n",
              "#sk-container-id-2 div.sk-parallel {\n",
              "  display: flex;\n",
              "  align-items: stretch;\n",
              "  justify-content: center;\n",
              "  background-color: var(--sklearn-color-background);\n",
              "  position: relative;\n",
              "}\n",
              "\n",
              "#sk-container-id-2 div.sk-parallel-item {\n",
              "  display: flex;\n",
              "  flex-direction: column;\n",
              "}\n",
              "\n",
              "#sk-container-id-2 div.sk-parallel-item:first-child::after {\n",
              "  align-self: flex-end;\n",
              "  width: 50%;\n",
              "}\n",
              "\n",
              "#sk-container-id-2 div.sk-parallel-item:last-child::after {\n",
              "  align-self: flex-start;\n",
              "  width: 50%;\n",
              "}\n",
              "\n",
              "#sk-container-id-2 div.sk-parallel-item:only-child::after {\n",
              "  width: 0;\n",
              "}\n",
              "\n",
              "/* Serial-specific style estimator block */\n",
              "\n",
              "#sk-container-id-2 div.sk-serial {\n",
              "  display: flex;\n",
              "  flex-direction: column;\n",
              "  align-items: center;\n",
              "  background-color: var(--sklearn-color-background);\n",
              "  padding-right: 1em;\n",
              "  padding-left: 1em;\n",
              "}\n",
              "\n",
              "\n",
              "/* Toggleable style: style used for estimator/Pipeline/ColumnTransformer box that is\n",
              "clickable and can be expanded/collapsed.\n",
              "- Pipeline and ColumnTransformer use this feature and define the default style\n",
              "- Estimators will overwrite some part of the style using the `sk-estimator` class\n",
              "*/\n",
              "\n",
              "/* Pipeline and ColumnTransformer style (default) */\n",
              "\n",
              "#sk-container-id-2 div.sk-toggleable {\n",
              "  /* Default theme specific background. It is overwritten whether we have a\n",
              "  specific estimator or a Pipeline/ColumnTransformer */\n",
              "  background-color: var(--sklearn-color-background);\n",
              "}\n",
              "\n",
              "/* Toggleable label */\n",
              "#sk-container-id-2 label.sk-toggleable__label {\n",
              "  cursor: pointer;\n",
              "  display: block;\n",
              "  width: 100%;\n",
              "  margin-bottom: 0;\n",
              "  padding: 0.5em;\n",
              "  box-sizing: border-box;\n",
              "  text-align: center;\n",
              "}\n",
              "\n",
              "#sk-container-id-2 label.sk-toggleable__label-arrow:before {\n",
              "  /* Arrow on the left of the label */\n",
              "  content: \"▸\";\n",
              "  float: left;\n",
              "  margin-right: 0.25em;\n",
              "  color: var(--sklearn-color-icon);\n",
              "}\n",
              "\n",
              "#sk-container-id-2 label.sk-toggleable__label-arrow:hover:before {\n",
              "  color: var(--sklearn-color-text);\n",
              "}\n",
              "\n",
              "/* Toggleable content - dropdown */\n",
              "\n",
              "#sk-container-id-2 div.sk-toggleable__content {\n",
              "  max-height: 0;\n",
              "  max-width: 0;\n",
              "  overflow: hidden;\n",
              "  text-align: left;\n",
              "  /* unfitted */\n",
              "  background-color: var(--sklearn-color-unfitted-level-0);\n",
              "}\n",
              "\n",
              "#sk-container-id-2 div.sk-toggleable__content.fitted {\n",
              "  /* fitted */\n",
              "  background-color: var(--sklearn-color-fitted-level-0);\n",
              "}\n",
              "\n",
              "#sk-container-id-2 div.sk-toggleable__content pre {\n",
              "  margin: 0.2em;\n",
              "  border-radius: 0.25em;\n",
              "  color: var(--sklearn-color-text);\n",
              "  /* unfitted */\n",
              "  background-color: var(--sklearn-color-unfitted-level-0);\n",
              "}\n",
              "\n",
              "#sk-container-id-2 div.sk-toggleable__content.fitted pre {\n",
              "  /* unfitted */\n",
              "  background-color: var(--sklearn-color-fitted-level-0);\n",
              "}\n",
              "\n",
              "#sk-container-id-2 input.sk-toggleable__control:checked~div.sk-toggleable__content {\n",
              "  /* Expand drop-down */\n",
              "  max-height: 200px;\n",
              "  max-width: 100%;\n",
              "  overflow: auto;\n",
              "}\n",
              "\n",
              "#sk-container-id-2 input.sk-toggleable__control:checked~label.sk-toggleable__label-arrow:before {\n",
              "  content: \"▾\";\n",
              "}\n",
              "\n",
              "/* Pipeline/ColumnTransformer-specific style */\n",
              "\n",
              "#sk-container-id-2 div.sk-label input.sk-toggleable__control:checked~label.sk-toggleable__label {\n",
              "  color: var(--sklearn-color-text);\n",
              "  background-color: var(--sklearn-color-unfitted-level-2);\n",
              "}\n",
              "\n",
              "#sk-container-id-2 div.sk-label.fitted input.sk-toggleable__control:checked~label.sk-toggleable__label {\n",
              "  background-color: var(--sklearn-color-fitted-level-2);\n",
              "}\n",
              "\n",
              "/* Estimator-specific style */\n",
              "\n",
              "/* Colorize estimator box */\n",
              "#sk-container-id-2 div.sk-estimator input.sk-toggleable__control:checked~label.sk-toggleable__label {\n",
              "  /* unfitted */\n",
              "  background-color: var(--sklearn-color-unfitted-level-2);\n",
              "}\n",
              "\n",
              "#sk-container-id-2 div.sk-estimator.fitted input.sk-toggleable__control:checked~label.sk-toggleable__label {\n",
              "  /* fitted */\n",
              "  background-color: var(--sklearn-color-fitted-level-2);\n",
              "}\n",
              "\n",
              "#sk-container-id-2 div.sk-label label.sk-toggleable__label,\n",
              "#sk-container-id-2 div.sk-label label {\n",
              "  /* The background is the default theme color */\n",
              "  color: var(--sklearn-color-text-on-default-background);\n",
              "}\n",
              "\n",
              "/* On hover, darken the color of the background */\n",
              "#sk-container-id-2 div.sk-label:hover label.sk-toggleable__label {\n",
              "  color: var(--sklearn-color-text);\n",
              "  background-color: var(--sklearn-color-unfitted-level-2);\n",
              "}\n",
              "\n",
              "/* Label box, darken color on hover, fitted */\n",
              "#sk-container-id-2 div.sk-label.fitted:hover label.sk-toggleable__label.fitted {\n",
              "  color: var(--sklearn-color-text);\n",
              "  background-color: var(--sklearn-color-fitted-level-2);\n",
              "}\n",
              "\n",
              "/* Estimator label */\n",
              "\n",
              "#sk-container-id-2 div.sk-label label {\n",
              "  font-family: monospace;\n",
              "  font-weight: bold;\n",
              "  display: inline-block;\n",
              "  line-height: 1.2em;\n",
              "}\n",
              "\n",
              "#sk-container-id-2 div.sk-label-container {\n",
              "  text-align: center;\n",
              "}\n",
              "\n",
              "/* Estimator-specific */\n",
              "#sk-container-id-2 div.sk-estimator {\n",
              "  font-family: monospace;\n",
              "  border: 1px dotted var(--sklearn-color-border-box);\n",
              "  border-radius: 0.25em;\n",
              "  box-sizing: border-box;\n",
              "  margin-bottom: 0.5em;\n",
              "  /* unfitted */\n",
              "  background-color: var(--sklearn-color-unfitted-level-0);\n",
              "}\n",
              "\n",
              "#sk-container-id-2 div.sk-estimator.fitted {\n",
              "  /* fitted */\n",
              "  background-color: var(--sklearn-color-fitted-level-0);\n",
              "}\n",
              "\n",
              "/* on hover */\n",
              "#sk-container-id-2 div.sk-estimator:hover {\n",
              "  /* unfitted */\n",
              "  background-color: var(--sklearn-color-unfitted-level-2);\n",
              "}\n",
              "\n",
              "#sk-container-id-2 div.sk-estimator.fitted:hover {\n",
              "  /* fitted */\n",
              "  background-color: var(--sklearn-color-fitted-level-2);\n",
              "}\n",
              "\n",
              "/* Specification for estimator info (e.g. \"i\" and \"?\") */\n",
              "\n",
              "/* Common style for \"i\" and \"?\" */\n",
              "\n",
              ".sk-estimator-doc-link,\n",
              "a:link.sk-estimator-doc-link,\n",
              "a:visited.sk-estimator-doc-link {\n",
              "  float: right;\n",
              "  font-size: smaller;\n",
              "  line-height: 1em;\n",
              "  font-family: monospace;\n",
              "  background-color: var(--sklearn-color-background);\n",
              "  border-radius: 1em;\n",
              "  height: 1em;\n",
              "  width: 1em;\n",
              "  text-decoration: none !important;\n",
              "  margin-left: 1ex;\n",
              "  /* unfitted */\n",
              "  border: var(--sklearn-color-unfitted-level-1) 1pt solid;\n",
              "  color: var(--sklearn-color-unfitted-level-1);\n",
              "}\n",
              "\n",
              ".sk-estimator-doc-link.fitted,\n",
              "a:link.sk-estimator-doc-link.fitted,\n",
              "a:visited.sk-estimator-doc-link.fitted {\n",
              "  /* fitted */\n",
              "  border: var(--sklearn-color-fitted-level-1) 1pt solid;\n",
              "  color: var(--sklearn-color-fitted-level-1);\n",
              "}\n",
              "\n",
              "/* On hover */\n",
              "div.sk-estimator:hover .sk-estimator-doc-link:hover,\n",
              ".sk-estimator-doc-link:hover,\n",
              "div.sk-label-container:hover .sk-estimator-doc-link:hover,\n",
              ".sk-estimator-doc-link:hover {\n",
              "  /* unfitted */\n",
              "  background-color: var(--sklearn-color-unfitted-level-3);\n",
              "  color: var(--sklearn-color-background);\n",
              "  text-decoration: none;\n",
              "}\n",
              "\n",
              "div.sk-estimator.fitted:hover .sk-estimator-doc-link.fitted:hover,\n",
              ".sk-estimator-doc-link.fitted:hover,\n",
              "div.sk-label-container:hover .sk-estimator-doc-link.fitted:hover,\n",
              ".sk-estimator-doc-link.fitted:hover {\n",
              "  /* fitted */\n",
              "  background-color: var(--sklearn-color-fitted-level-3);\n",
              "  color: var(--sklearn-color-background);\n",
              "  text-decoration: none;\n",
              "}\n",
              "\n",
              "/* Span, style for the box shown on hovering the info icon */\n",
              ".sk-estimator-doc-link span {\n",
              "  display: none;\n",
              "  z-index: 9999;\n",
              "  position: relative;\n",
              "  font-weight: normal;\n",
              "  right: .2ex;\n",
              "  padding: .5ex;\n",
              "  margin: .5ex;\n",
              "  width: min-content;\n",
              "  min-width: 20ex;\n",
              "  max-width: 50ex;\n",
              "  color: var(--sklearn-color-text);\n",
              "  box-shadow: 2pt 2pt 4pt #999;\n",
              "  /* unfitted */\n",
              "  background: var(--sklearn-color-unfitted-level-0);\n",
              "  border: .5pt solid var(--sklearn-color-unfitted-level-3);\n",
              "}\n",
              "\n",
              ".sk-estimator-doc-link.fitted span {\n",
              "  /* fitted */\n",
              "  background: var(--sklearn-color-fitted-level-0);\n",
              "  border: var(--sklearn-color-fitted-level-3);\n",
              "}\n",
              "\n",
              ".sk-estimator-doc-link:hover span {\n",
              "  display: block;\n",
              "}\n",
              "\n",
              "/* \"?\"-specific style due to the `<a>` HTML tag */\n",
              "\n",
              "#sk-container-id-2 a.estimator_doc_link {\n",
              "  float: right;\n",
              "  font-size: 1rem;\n",
              "  line-height: 1em;\n",
              "  font-family: monospace;\n",
              "  background-color: var(--sklearn-color-background);\n",
              "  border-radius: 1rem;\n",
              "  height: 1rem;\n",
              "  width: 1rem;\n",
              "  text-decoration: none;\n",
              "  /* unfitted */\n",
              "  color: var(--sklearn-color-unfitted-level-1);\n",
              "  border: var(--sklearn-color-unfitted-level-1) 1pt solid;\n",
              "}\n",
              "\n",
              "#sk-container-id-2 a.estimator_doc_link.fitted {\n",
              "  /* fitted */\n",
              "  border: var(--sklearn-color-fitted-level-1) 1pt solid;\n",
              "  color: var(--sklearn-color-fitted-level-1);\n",
              "}\n",
              "\n",
              "/* On hover */\n",
              "#sk-container-id-2 a.estimator_doc_link:hover {\n",
              "  /* unfitted */\n",
              "  background-color: var(--sklearn-color-unfitted-level-3);\n",
              "  color: var(--sklearn-color-background);\n",
              "  text-decoration: none;\n",
              "}\n",
              "\n",
              "#sk-container-id-2 a.estimator_doc_link.fitted:hover {\n",
              "  /* fitted */\n",
              "  background-color: var(--sklearn-color-fitted-level-3);\n",
              "}\n",
              "</style><div id=\"sk-container-id-2\" class=\"sk-top-container\"><div class=\"sk-text-repr-fallback\"><pre>AgglomerativeClustering(linkage=&#x27;complete&#x27;, metric=&#x27;l1&#x27;, n_clusters=3)</pre><b>In a Jupyter environment, please rerun this cell to show the HTML representation or trust the notebook. <br />On GitHub, the HTML representation is unable to render, please try loading this page with nbviewer.org.</b></div><div class=\"sk-container\" hidden><div class=\"sk-item\"><div class=\"sk-estimator fitted sk-toggleable\"><input class=\"sk-toggleable__control sk-hidden--visually\" id=\"sk-estimator-id-2\" type=\"checkbox\" checked><label for=\"sk-estimator-id-2\" class=\"sk-toggleable__label fitted sk-toggleable__label-arrow fitted\">&nbsp;&nbsp;AgglomerativeClustering<a class=\"sk-estimator-doc-link fitted\" rel=\"noreferrer\" target=\"_blank\" href=\"https://scikit-learn.org/1.5/modules/generated/sklearn.cluster.AgglomerativeClustering.html\">?<span>Documentation for AgglomerativeClustering</span></a><span class=\"sk-estimator-doc-link fitted\">i<span>Fitted</span></span></label><div class=\"sk-toggleable__content fitted\"><pre>AgglomerativeClustering(linkage=&#x27;complete&#x27;, metric=&#x27;l1&#x27;, n_clusters=3)</pre></div> </div></div></div></div>"
            ]
          },
          "metadata": {},
          "execution_count": 76
        }
      ]
    },
    {
      "cell_type": "code",
      "source": [
        "# O‘quv(train) to‘plam uchun model natijasi\n",
        "Y_train_hierar = cluster.fit_predict(x_train)\n",
        "print(Y_train_hierar)"
      ],
      "metadata": {
        "colab": {
          "base_uri": "https://localhost:8080/"
        },
        "id": "Ep3fIFJfKFgL",
        "outputId": "7b67f0f5-4d7e-4aa8-d69a-54c086d91ca1"
      },
      "execution_count": 80,
      "outputs": [
        {
          "output_type": "stream",
          "name": "stdout",
          "text": [
            "[0 0 0 0 2 0 1 0 0 1 0 0 0 2 1 0 0 1 0 0 1 0 2 1 1 0 0 0 0 2 0 2 1 0 0 0 2\n",
            " 0 1 1 1 2]\n"
          ]
        }
      ]
    },
    {
      "cell_type": "code",
      "source": [
        "# Sinov(test) to‘plam uchun model natijasi\n",
        "Y_test_hierar = cluster.fit_predict(x_test)\n",
        "print(Y_test_hierar)"
      ],
      "metadata": {
        "colab": {
          "base_uri": "https://localhost:8080/"
        },
        "id": "XEex7YIxKRWw",
        "outputId": "bb533561-2ad6-42d6-cf61-6f744a880d83"
      },
      "execution_count": 82,
      "outputs": [
        {
          "output_type": "stream",
          "name": "stdout",
          "text": [
            "[1 1 1 1 0 0 2 1 0 1 0 2 1 0 0 1 1 1]\n"
          ]
        }
      ]
    },
    {
      "cell_type": "code",
      "source": [
        "plt.figure(figsize=(12,6))\n",
        "plt.subplot(1,2,1)\n",
        "\n",
        "plt.title('Orginal')\n",
        "plt.xlabel('Gultoj_uzunligi')\n",
        "plt.ylabel('Gultoj_kengligi')\n",
        "plt.scatter(*x_train[y_train==0].T,\n",
        "          s=50, alpha=0.8,label='sinf-0')\n",
        "plt.scatter(*x_train[y_train==1].T,\n",
        "          s=50, alpha=0.8,label='sinf-1')\n",
        "plt.scatter(*x_train[y_train==2].T,\n",
        "          s=50, alpha=0.8,label='sinf-2')\n",
        "plt.legend()\n",
        "\n",
        "plt.subplot(1,2,2)\n",
        "plt.title('Hierarchical')\n",
        "plt.xlabel('Gulbarg_uzunligi')\n",
        "plt.ylabel('Gulbarg_kengligi')\n",
        "plt.scatter(*x_train[Y_train_hierar==0].T,\n",
        "          s=50, alpha=0.8,label='Cluster-0')\n",
        "plt.scatter(*x_train[Y_train_hierar==1].T,\n",
        "          s=50, alpha=0.8,label='Cluster-1')\n",
        "plt.scatter(*x_train[Y_train_hierar==2].T,\n",
        "          s=50, alpha=0.8,label='Cluster-2')\n",
        "plt.legend()\n",
        "plt.show()"
      ],
      "metadata": {
        "colab": {
          "base_uri": "https://localhost:8080/",
          "height": 448
        },
        "id": "D4ixkO22KW9y",
        "outputId": "5f78dc77-8dbe-44a1-98b4-fd10ac7385f8"
      },
      "execution_count": 83,
      "outputs": [
        {
          "output_type": "display_data",
          "data": {
            "text/plain": [
              "<Figure size 1200x600 with 2 Axes>"
            ],
            "image/png": "[encoded data removed]"
          },
          "metadata": {}
        }
      ]
    },
    {
      "cell_type": "code",
      "source": [
        "plt.figure(figsize=(12,6))\n",
        "plt.subplot(1,2,1)\n",
        "\n",
        "plt.title('Orginal')\n",
        "plt.xlabel('Gultoj_uzunligi')\n",
        "plt.ylabel('Gultoj_kengligi')\n",
        "plt.scatter(*x_test[y_test==0].T,\n",
        "        s=50, alpha=0.8,label='sinf-0')\n",
        "plt.scatter(*x_test[y_test==1].T,\n",
        "        s=50, alpha=0.8,label='sinf-1')\n",
        "plt.scatter(*x_test[y_test==2].T,\n",
        "        s=50, alpha=0.8,label='sinf-2')\n",
        "plt.legend()\n",
        "\n",
        "plt.subplot(1,2,2)\n",
        "plt.title('Hierarchical')\n",
        "plt.xlabel('Gulbarg_uzunligi')\n",
        "plt.ylabel('Gulbarg_kengligi')\n",
        "plt.scatter(*x_test[Y_test_hierar==0].T,\n",
        "        s=50, alpha=0.8,label='Cluster-0')\n",
        "plt.scatter(*x_test[Y_test_hierar==1].T,\n",
        "        s=50, alpha=0.8,label='Cluster-1')\n",
        "plt.scatter(*x_test[Y_test_hierar==2].T,\n",
        "        s=50, alpha=0.8,label='Cluster-2')\n",
        "plt.legend()\n",
        "plt.show()"
      ],
      "metadata": {
        "colab": {
          "base_uri": "https://localhost:8080/",
          "height": 448
        },
        "id": "weL3sPaEKnRz",
        "outputId": "cd951472-4e2d-43a3-d969-72f0f9ab056e"
      },
      "execution_count": 84,
      "outputs": [
        {
          "output_type": "display_data",
          "data": {
            "text/plain": [
              "<Figure size 1200x600 with 2 Axes>"
            ],
            "image/png": "[encoded data removed]"
          },
          "metadata": {}
        }
      ]
    },
    {
      "cell_type": "code",
      "source": [
        "y_train"
      ],
      "metadata": {
        "colab": {
          "base_uri": "https://localhost:8080/"
        },
        "id": "MZ-tTzirK0tK",
        "outputId": "8a872f79-e8c4-4511-b5b2-8cbb7a6c4156"
      },
      "execution_count": 93,
      "outputs": [
        {
          "output_type": "execute_result",
          "data": {
            "text/plain": [
              "array([1, 1, 1, 1, 0, 1, 2, 1, 1, 2, 1, 1, 1, 0, 2, 1, 1, 2, 1, 1, 2, 1,\n",
              "       0, 2, 2, 1, 1, 1, 1, 0, 1, 0, 2, 1, 1, 1, 0, 1, 2, 2, 2, 0])"
            ]
          },
          "metadata": {},
          "execution_count": 93
        }
      ]
    },
    {
      "cell_type": "code",
      "source": [
        "Y_train_hierar=Y_train_hierar+5\n",
        "Y_train_hierar"
      ],
      "metadata": {
        "colab": {
          "base_uri": "https://localhost:8080/"
        },
        "id": "Ze8nKBaQK3Xk",
        "outputId": "ddedb449-d835-4307-82a4-51e9f18ea84f"
      },
      "execution_count": 94,
      "outputs": [
        {
          "output_type": "execute_result",
          "data": {
            "text/plain": [
              "array([6, 6, 6, 6, 7, 6, 5, 6, 6, 5, 6, 6, 6, 7, 5, 6, 6, 5, 6, 6, 5, 6,\n",
              "       7, 5, 5, 6, 6, 6, 6, 7, 6, 7, 5, 6, 6, 6, 7, 6, 5, 5, 5, 7])"
            ]
          },
          "metadata": {},
          "execution_count": 94
        }
      ]
    },
    {
      "cell_type": "code",
      "source": [
        "Y_train_hierar[Y_train_hierar==5]=2\n",
        "Y_train_hierar[Y_train_hierar==6]=1\n",
        "Y_train_hierar[Y_train_hierar==7]=0\n",
        "Y_train_hierar"
      ],
      "metadata": {
        "colab": {
          "base_uri": "https://localhost:8080/"
        },
        "id": "6trZv99zK56U",
        "outputId": "51ce824b-69e3-4884-85cf-7101d30275e1"
      },
      "execution_count": 95,
      "outputs": [
        {
          "output_type": "execute_result",
          "data": {
            "text/plain": [
              "array([1, 1, 1, 1, 0, 1, 2, 1, 1, 2, 1, 1, 1, 0, 2, 1, 1, 2, 1, 1, 2, 1,\n",
              "       0, 2, 2, 1, 1, 1, 1, 0, 1, 0, 2, 1, 1, 1, 0, 1, 2, 2, 2, 0])"
            ]
          },
          "metadata": {},
          "execution_count": 95
        }
      ]
    },
    {
      "cell_type": "code",
      "source": [
        "hierar_train_baholash = confusion_matrix(y_train,\n",
        "                                    Y_train_hierar)\n",
        "print(\"Chalkashlik matritsasi: \")\n",
        "print(hierar_train_baholash)"
      ],
      "metadata": {
        "colab": {
          "base_uri": "https://localhost:8080/"
        },
        "id": "ZQmubfNqK_HC",
        "outputId": "32eb1f59-b213-4d4d-c781-ca0b917287d0"
      },
      "execution_count": 96,
      "outputs": [
        {
          "output_type": "stream",
          "name": "stdout",
          "text": [
            "Chalkashlik matritsasi: \n",
            "[[ 7  0  0]\n",
            " [ 0 24  0]\n",
            " [ 0  0 11]]\n"
          ]
        }
      ]
    },
    {
      "cell_type": "code",
      "source": [
        "# O‘quv(train) to‘plam uchun model aniqligi\n",
        "hierar_train_score = accuracy_score(y_train, Y_train_hierar)\n",
        "print(\"Accuracy (Aniqlik):\", hierar_train_score)"
      ],
      "metadata": {
        "colab": {
          "base_uri": "https://localhost:8080/"
        },
        "id": "O5yzBVXALFPO",
        "outputId": "688f4cf7-902e-4624-e006-0b37c8eafa9f"
      },
      "execution_count": 117,
      "outputs": [
        {
          "output_type": "stream",
          "name": "stdout",
          "text": [
            "Accuracy (Aniqlik): 1.0\n"
          ]
        }
      ]
    },
    {
      "cell_type": "code",
      "source": [
        "plt.figure(figsize=(4,4))\n",
        "sns.heatmap(hierar_train_baholash, annot=True,\n",
        "        fmt=\".3f\", linewidths=.1, square = True,\n",
        "        cmap = 'inferno', alpha = 0.4);\n",
        "plt.ylabel('Haqiqiy yorliq');\n",
        "plt.xlabel('Bashoratli yorliq');\n",
        "matritsa=\"Aniqlik ko'rsatkichi: {0}\".format(hierar_train_score)\n",
        "plt.title(matritsa, size = 9);"
      ],
      "metadata": {
        "colab": {
          "base_uri": "https://localhost:8080/",
          "height": 358
        },
        "id": "zxvmara6LhdN",
        "outputId": "95ac1bc8-eaa8-4c06-d47b-09403d336ec0"
      },
      "execution_count": 135,
      "outputs": [
        {
          "output_type": "display_data",
          "data": {
            "text/plain": [
              "<Figure size 400x400 with 2 Axes>"
            ],
            "image/png": "[encoded data removed]"
          },
          "metadata": {}
        }
      ]
    },
    {
      "cell_type": "code",
      "source": [
        "hierar_train_hisobot = classification_report(y_train,\n",
        "                      Y_train_hierar)\n",
        "print(\"Klasterlash  hisoboti:\")\n",
        "print (hierar_train_hisobot)"
      ],
      "metadata": {
        "colab": {
          "base_uri": "https://localhost:8080/"
        },
        "id": "67WaB7t4L0ng",
        "outputId": "5c0cd8ed-02ea-4ae1-c018-bd68be426ae4"
      },
      "execution_count": 136,
      "outputs": [
        {
          "output_type": "stream",
          "name": "stdout",
          "text": [
            "Klasterlash  hisoboti:\n",
            "              precision    recall  f1-score   support\n",
            "\n",
            "           0       1.00      1.00      1.00         7\n",
            "           1       1.00      1.00      1.00        24\n",
            "           2       1.00      1.00      1.00        11\n",
            "\n",
            "    accuracy                           1.00        42\n",
            "   macro avg       1.00      1.00      1.00        42\n",
            "weighted avg       1.00      1.00      1.00        42\n",
            "\n"
          ]
        }
      ]
    },
    {
      "cell_type": "code",
      "source": [
        "y_test"
      ],
      "metadata": {
        "colab": {
          "base_uri": "https://localhost:8080/"
        },
        "id": "xVC0CITvL4nU",
        "outputId": "922f63a9-2583-4a34-a712-b75741b6c37e"
      },
      "execution_count": 137,
      "outputs": [
        {
          "output_type": "execute_result",
          "data": {
            "text/plain": [
              "array([1, 1, 1, 1, 1, 0, 2, 1, 1, 1, 1, 2, 1, 0, 0, 1, 1, 1])"
            ]
          },
          "metadata": {},
          "execution_count": 137
        }
      ]
    },
    {
      "cell_type": "code",
      "source": [
        "Y_test_hierar=Y_test_hierar+5\n",
        "Y_test_hierar"
      ],
      "metadata": {
        "colab": {
          "base_uri": "https://localhost:8080/"
        },
        "id": "egy4FxB3NgTn",
        "outputId": "812de77f-0679-4a72-a69b-8eef8502a963"
      },
      "execution_count": 138,
      "outputs": [
        {
          "output_type": "execute_result",
          "data": {
            "text/plain": [
              "array([25, 25, 25, 25, 26, 26, 27, 25, 26, 25, 26, 27, 25, 26, 26, 25, 25,\n",
              "       25])"
            ]
          },
          "metadata": {},
          "execution_count": 138
        }
      ]
    },
    {
      "cell_type": "code",
      "source": [
        "Y_test_hierar[Y_test_hierar==25]=1\n",
        "Y_test_hierar[Y_test_hierar==26]=2\n",
        "Y_test_hierar[Y_test_hierar==27]=0\n",
        "Y_test_hierar"
      ],
      "metadata": {
        "colab": {
          "base_uri": "https://localhost:8080/"
        },
        "id": "nujbFE3xMyDv",
        "outputId": "2b36e54a-4278-4f2a-9ef1-5bc753e1d32f"
      },
      "execution_count": 139,
      "outputs": [
        {
          "output_type": "execute_result",
          "data": {
            "text/plain": [
              "array([1, 1, 1, 1, 2, 2, 0, 1, 2, 1, 2, 0, 1, 2, 2, 1, 1, 1])"
            ]
          },
          "metadata": {},
          "execution_count": 139
        }
      ]
    },
    {
      "cell_type": "code",
      "source": [
        "hierar_test_baholash = confusion_matrix(y_test,\n",
        "                      Y_test_hierar)\n",
        "print(\"Chalkashlik matritsasi: \")\n",
        "print(hierar_test_baholash)"
      ],
      "metadata": {
        "colab": {
          "base_uri": "https://localhost:8080/"
        },
        "id": "mPGtZb2MM3mK",
        "outputId": "5c86d029-ff42-4a3b-ada4-0fa273b1769f"
      },
      "execution_count": 140,
      "outputs": [
        {
          "output_type": "stream",
          "name": "stdout",
          "text": [
            "Chalkashlik matritsasi: \n",
            "[[ 0  0  3]\n",
            " [ 0 10  3]\n",
            " [ 2  0  0]]\n"
          ]
        }
      ]
    },
    {
      "cell_type": "code",
      "source": [
        "# Sinov(test) to‘plam uchun model aniqligi\n",
        "\n",
        "hierar_test_score = accuracy_score(y_test, Y_test_hierar)\n",
        "print(\"Accuracy (Aniqlik):\", hierar_test_score)"
      ],
      "metadata": {
        "colab": {
          "base_uri": "https://localhost:8080/"
        },
        "id": "rqo9w2PDM8cU",
        "outputId": "bdd4d587-7165-45ad-9c34-0dd39af83da3"
      },
      "execution_count": 141,
      "outputs": [
        {
          "output_type": "stream",
          "name": "stdout",
          "text": [
            "Accuracy (Aniqlik): 0.5555555555555556\n"
          ]
        }
      ]
    },
    {
      "cell_type": "code",
      "source": [
        "plt.figure(figsize=(4,4))\n",
        "sns.heatmap(hierar_test_baholash, annot=True,\n",
        "          fmt=\".3f\", linewidths=.1, square = True,\n",
        "          cmap = 'inferno', alpha = 0.4);\n",
        "plt.ylabel('Haqiqiy yorliq');\n",
        "plt.xlabel('Bashoratli yorliq');\n",
        "matritsa=\"Aniqlik ko'rsatkichi: {0}\".format(hierar_test_score)\n",
        "plt.title(matritsa, size = 9);"
      ],
      "metadata": {
        "colab": {
          "base_uri": "https://localhost:8080/",
          "height": 363
        },
        "id": "umtgh0KoNAf8",
        "outputId": "c30cc2f0-b3ae-4b7b-906b-ee771a31b335"
      },
      "execution_count": 142,
      "outputs": [
        {
          "output_type": "display_data",
          "data": {
            "text/plain": [
              "<Figure size 400x400 with 2 Axes>"
            ],
            "image/png": "[encoded data removed]"
          },
          "metadata": {}
        }
      ]
    },
    {
      "cell_type": "code",
      "source": [
        "hierar_test_hisobot = classification_report(y_test,\n",
        "                          Y_test_hierar)\n",
        "print(\"Klasterlash  hisoboti:\")\n",
        "print (hierar_test_hisobot)"
      ],
      "metadata": {
        "colab": {
          "base_uri": "https://localhost:8080/"
        },
        "id": "QO6dx3UNPWew",
        "outputId": "84ed6c93-b405-4f48-990f-9dd70eef85db"
      },
      "execution_count": 143,
      "outputs": [
        {
          "output_type": "stream",
          "name": "stdout",
          "text": [
            "Klasterlash  hisoboti:\n",
            "              precision    recall  f1-score   support\n",
            "\n",
            "           0       0.00      0.00      0.00         3\n",
            "           1       1.00      0.77      0.87        13\n",
            "           2       0.00      0.00      0.00         2\n",
            "\n",
            "    accuracy                           0.56        18\n",
            "   macro avg       0.33      0.26      0.29        18\n",
            "weighted avg       0.72      0.56      0.63        18\n",
            "\n"
          ]
        }
      ]
    },
    {
      "cell_type": "code",
      "source": [],
      "metadata": {
        "id": "qeRn5LkxPbZV"
      },
      "execution_count": null,
      "outputs": []
    }
  ]
}